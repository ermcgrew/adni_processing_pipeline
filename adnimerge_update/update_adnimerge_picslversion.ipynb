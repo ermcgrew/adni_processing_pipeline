{
 "cells": [
  {
   "cell_type": "code",
   "execution_count": 1,
   "id": "15ee05c4-3edb-4490-967c-5af4ffddfafc",
   "metadata": {},
   "outputs": [
    {
     "name": "stdout",
     "output_type": "stream",
     "text": [
      "Intel MKL WARNING: Support of Intel(R) Streaming SIMD Extensions 4.2 (Intel(R) SSE4.2) enabled only processors has been deprecated. Intel oneAPI Math Kernel Library 2025.0 will require Intel(R) Advanced Vector Extensions (Intel(R) AVX) instructions.\n",
      "Intel MKL WARNING: Support of Intel(R) Streaming SIMD Extensions 4.2 (Intel(R) SSE4.2) enabled only processors has been deprecated. Intel oneAPI Math Kernel Library 2025.0 will require Intel(R) Advanced Vector Extensions (Intel(R) AVX) instructions.\n"
     ]
    }
   ],
   "source": [
    "import pandas as pd\n",
    "pd.options.mode.chained_assignment = None\n",
    "from datetime import datetime\n",
    "import numpy as np"
   ]
  },
  {
   "cell_type": "markdown",
   "id": "aa6fc1f9-fd65-4df1-87a7-c782858fb6d6",
   "metadata": {},
   "source": [
    "### ADNIMERGE + additional data & data checks\n",
    "Long's code to double-check and expand on ADNIMERGE sheet, translated to python/pandas from R"
   ]
  },
  {
   "cell_type": "markdown",
   "id": "f1e97461-c001-4a37-a7b0-222452063789",
   "metadata": {},
   "source": [
    "## Step 1: load ADNIMERGE.csv as base sheet to build on"
   ]
  },
  {
   "cell_type": "code",
   "execution_count": 2,
   "id": "e1f84750-2e33-4d8c-ad86-5e70acd00cea",
   "metadata": {},
   "outputs": [
    {
     "name": "stdout",
     "output_type": "stream",
     "text": [
      "<class 'pandas.core.frame.DataFrame'>\n",
      "RangeIndex: 16421 entries, 0 to 16420\n",
      "Columns: 116 entries, RID to update_stamp\n",
      "dtypes: datetime64[ns](1), float64(88), int64(5), object(22)\n",
      "memory usage: 14.5+ MB\n"
     ]
    }
   ],
   "source": [
    "adnimerge=pd.read_csv(\"ADNIspreadsheets/ADNIMERGE_28May2024.csv\",na_values=\"\",dtype={'RID':int, 'VISCODE':str}, parse_dates=['EXAMDATE'],low_memory=False)\n",
    "adnimerge.info()"
   ]
  },
  {
   "cell_type": "code",
   "execution_count": 3,
   "id": "7002c19f-3a98-4da4-8ee5-70b1d0459099",
   "metadata": {},
   "outputs": [],
   "source": [
    "adnimerge.rename(columns={\"VISCODE\":'VISCODE2','EXAMDATE':\"EXAMDATE_MERGE\",'COLPROT':'PHASE_MERGE'},inplace=True)\n",
    "adnimerge.drop(columns=['update_stamp',\"Month\",'M','ORIGPROT'],inplace=True)"
   ]
  },
  {
   "cell_type": "code",
   "execution_count": 4,
   "id": "2c9976e3-a95f-4a7c-ba8a-c182eb010be0",
   "metadata": {},
   "outputs": [],
   "source": [
    "# remove one case with VISCODE2 == m0\n",
    "adnimerge=adnimerge.loc[adnimerge['VISCODE2'] != 'm0']"
   ]
  },
  {
   "cell_type": "code",
   "execution_count": 5,
   "id": "d9ddf7a6-eb3d-489a-892a-a93d05ec9044",
   "metadata": {},
   "outputs": [
    {
     "name": "stdout",
     "output_type": "stream",
     "text": [
      "INFO: VISCODE2 == 'sc': 0\n"
     ]
    }
   ],
   "source": [
    "# check that no viscodes are labeled \"sc\"\n",
    "print(f\"INFO: VISCODE2 == 'sc': {len(adnimerge.loc[adnimerge['VISCODE2'] =='sc'])}\")"
   ]
  },
  {
   "cell_type": "code",
   "execution_count": 6,
   "id": "12c486d6-d85b-4712-ba28-c85679538676",
   "metadata": {},
   "outputs": [
    {
     "name": "stdout",
     "output_type": "stream",
     "text": [
      "INFO:no RID/VISCODE2 duplicates\n"
     ]
    }
   ],
   "source": [
    "## check for duplicates\n",
    "dupes=adnimerge[adnimerge.duplicated(subset=[\"RID\", 'VISCODE2'],keep=False)]\n",
    "if len(dupes) > 0:\n",
    "    print('WARNING:delete duplicate RID,VISCODE2 sessions')\n",
    "else:\n",
    "    print('INFO:no RID/VISCODE2 duplicates')"
   ]
  },
  {
   "cell_type": "code",
   "execution_count": 7,
   "id": "8e56eeb3-e2f4-4930-8efe-9e79ea8c7ff5",
   "metadata": {
    "scrolled": true
   },
   "outputs": [
    {
     "data": {
      "text/html": [
       "<div>\n",
       "<style scoped>\n",
       "    .dataframe tbody tr th:only-of-type {\n",
       "        vertical-align: middle;\n",
       "    }\n",
       "\n",
       "    .dataframe tbody tr th {\n",
       "        vertical-align: top;\n",
       "    }\n",
       "\n",
       "    .dataframe thead th {\n",
       "        text-align: right;\n",
       "    }\n",
       "</style>\n",
       "<table border=\"1\" class=\"dataframe\">\n",
       "  <thead>\n",
       "    <tr style=\"text-align: right;\">\n",
       "      <th></th>\n",
       "      <th>RID</th>\n",
       "      <th>PHASE_MERGE</th>\n",
       "      <th>PTID</th>\n",
       "      <th>SITE</th>\n",
       "      <th>VISCODE2</th>\n",
       "      <th>EXAMDATE_MERGE</th>\n",
       "      <th>DX_bl</th>\n",
       "      <th>AGE</th>\n",
       "      <th>PTGENDER</th>\n",
       "      <th>PTEDUCAT</th>\n",
       "      <th>...</th>\n",
       "      <th>EcogSPTotal_bl</th>\n",
       "      <th>ABETA_bl</th>\n",
       "      <th>TAU_bl</th>\n",
       "      <th>PTAU_bl</th>\n",
       "      <th>FDG_bl</th>\n",
       "      <th>PIB_bl</th>\n",
       "      <th>AV45_bl</th>\n",
       "      <th>FBB_bl</th>\n",
       "      <th>Years_bl</th>\n",
       "      <th>Month_bl</th>\n",
       "    </tr>\n",
       "  </thead>\n",
       "  <tbody>\n",
       "    <tr>\n",
       "      <th>4060</th>\n",
       "      <td>4783</td>\n",
       "      <td>ADNI2</td>\n",
       "      <td>035_S_4783</td>\n",
       "      <td>35</td>\n",
       "      <td>m30</td>\n",
       "      <td>2014-03-13</td>\n",
       "      <td>AD</td>\n",
       "      <td>83.2</td>\n",
       "      <td>Male</td>\n",
       "      <td>20</td>\n",
       "      <td>...</td>\n",
       "      <td>2.32432</td>\n",
       "      <td>596.3</td>\n",
       "      <td>221.7</td>\n",
       "      <td>22.07</td>\n",
       "      <td>1.14345</td>\n",
       "      <td>NaN</td>\n",
       "      <td>1.4989</td>\n",
       "      <td>NaN</td>\n",
       "      <td>1.51129</td>\n",
       "      <td>18.0984</td>\n",
       "    </tr>\n",
       "    <tr>\n",
       "      <th>4062</th>\n",
       "      <td>4783</td>\n",
       "      <td>ADNI2</td>\n",
       "      <td>035_S_4783</td>\n",
       "      <td>35</td>\n",
       "      <td>m18</td>\n",
       "      <td>2014-03-13</td>\n",
       "      <td>AD</td>\n",
       "      <td>83.2</td>\n",
       "      <td>Male</td>\n",
       "      <td>20</td>\n",
       "      <td>...</td>\n",
       "      <td>2.32432</td>\n",
       "      <td>596.3</td>\n",
       "      <td>221.7</td>\n",
       "      <td>22.07</td>\n",
       "      <td>1.14345</td>\n",
       "      <td>NaN</td>\n",
       "      <td>1.4989</td>\n",
       "      <td>NaN</td>\n",
       "      <td>1.51129</td>\n",
       "      <td>18.0984</td>\n",
       "    </tr>\n",
       "    <tr>\n",
       "      <th>4979</th>\n",
       "      <td>1195</td>\n",
       "      <td>ADNIGO</td>\n",
       "      <td>941_S_1195</td>\n",
       "      <td>941</td>\n",
       "      <td>m48</td>\n",
       "      <td>2011-02-15</td>\n",
       "      <td>CN</td>\n",
       "      <td>76.9</td>\n",
       "      <td>Male</td>\n",
       "      <td>20</td>\n",
       "      <td>...</td>\n",
       "      <td>NaN</td>\n",
       "      <td>NaN</td>\n",
       "      <td>NaN</td>\n",
       "      <td>NaN</td>\n",
       "      <td>1.30789</td>\n",
       "      <td>NaN</td>\n",
       "      <td>NaN</td>\n",
       "      <td>NaN</td>\n",
       "      <td>3.98631</td>\n",
       "      <td>47.7377</td>\n",
       "    </tr>\n",
       "    <tr>\n",
       "      <th>7676</th>\n",
       "      <td>1195</td>\n",
       "      <td>ADNI1</td>\n",
       "      <td>941_S_1195</td>\n",
       "      <td>941</td>\n",
       "      <td>m42</td>\n",
       "      <td>2011-02-15</td>\n",
       "      <td>CN</td>\n",
       "      <td>76.9</td>\n",
       "      <td>Male</td>\n",
       "      <td>20</td>\n",
       "      <td>...</td>\n",
       "      <td>NaN</td>\n",
       "      <td>NaN</td>\n",
       "      <td>NaN</td>\n",
       "      <td>NaN</td>\n",
       "      <td>1.30789</td>\n",
       "      <td>NaN</td>\n",
       "      <td>NaN</td>\n",
       "      <td>NaN</td>\n",
       "      <td>3.98631</td>\n",
       "      <td>47.7377</td>\n",
       "    </tr>\n",
       "    <tr>\n",
       "      <th>10056</th>\n",
       "      <td>1088</td>\n",
       "      <td>ADNI2</td>\n",
       "      <td>128_S_1088</td>\n",
       "      <td>128</td>\n",
       "      <td>m78</td>\n",
       "      <td>2013-01-23</td>\n",
       "      <td>LMCI</td>\n",
       "      <td>87.9</td>\n",
       "      <td>Male</td>\n",
       "      <td>18</td>\n",
       "      <td>...</td>\n",
       "      <td>NaN</td>\n",
       "      <td>NaN</td>\n",
       "      <td>NaN</td>\n",
       "      <td>NaN</td>\n",
       "      <td>NaN</td>\n",
       "      <td>NaN</td>\n",
       "      <td>NaN</td>\n",
       "      <td>NaN</td>\n",
       "      <td>6.05065</td>\n",
       "      <td>72.4590</td>\n",
       "    </tr>\n",
       "    <tr>\n",
       "      <th>10057</th>\n",
       "      <td>1088</td>\n",
       "      <td>ADNI2</td>\n",
       "      <td>128_S_1088</td>\n",
       "      <td>128</td>\n",
       "      <td>m72</td>\n",
       "      <td>2013-01-23</td>\n",
       "      <td>LMCI</td>\n",
       "      <td>87.9</td>\n",
       "      <td>Male</td>\n",
       "      <td>18</td>\n",
       "      <td>...</td>\n",
       "      <td>NaN</td>\n",
       "      <td>NaN</td>\n",
       "      <td>NaN</td>\n",
       "      <td>NaN</td>\n",
       "      <td>NaN</td>\n",
       "      <td>NaN</td>\n",
       "      <td>NaN</td>\n",
       "      <td>NaN</td>\n",
       "      <td>6.05065</td>\n",
       "      <td>72.4590</td>\n",
       "    </tr>\n",
       "  </tbody>\n",
       "</table>\n",
       "<p>6 rows × 112 columns</p>\n",
       "</div>"
      ],
      "text/plain": [
       "        RID PHASE_MERGE        PTID  SITE VISCODE2 EXAMDATE_MERGE DX_bl   AGE  \\\n",
       "4060   4783       ADNI2  035_S_4783    35      m30     2014-03-13    AD  83.2   \n",
       "4062   4783       ADNI2  035_S_4783    35      m18     2014-03-13    AD  83.2   \n",
       "4979   1195      ADNIGO  941_S_1195   941      m48     2011-02-15    CN  76.9   \n",
       "7676   1195       ADNI1  941_S_1195   941      m42     2011-02-15    CN  76.9   \n",
       "10056  1088       ADNI2  128_S_1088   128      m78     2013-01-23  LMCI  87.9   \n",
       "10057  1088       ADNI2  128_S_1088   128      m72     2013-01-23  LMCI  87.9   \n",
       "\n",
       "      PTGENDER  PTEDUCAT  ... EcogSPTotal_bl ABETA_bl TAU_bl  PTAU_bl  \\\n",
       "4060      Male        20  ...        2.32432    596.3  221.7    22.07   \n",
       "4062      Male        20  ...        2.32432    596.3  221.7    22.07   \n",
       "4979      Male        20  ...            NaN      NaN    NaN      NaN   \n",
       "7676      Male        20  ...            NaN      NaN    NaN      NaN   \n",
       "10056     Male        18  ...            NaN      NaN    NaN      NaN   \n",
       "10057     Male        18  ...            NaN      NaN    NaN      NaN   \n",
       "\n",
       "        FDG_bl  PIB_bl  AV45_bl  FBB_bl Years_bl Month_bl  \n",
       "4060   1.14345     NaN   1.4989     NaN  1.51129  18.0984  \n",
       "4062   1.14345     NaN   1.4989     NaN  1.51129  18.0984  \n",
       "4979   1.30789     NaN      NaN     NaN  3.98631  47.7377  \n",
       "7676   1.30789     NaN      NaN     NaN  3.98631  47.7377  \n",
       "10056      NaN     NaN      NaN     NaN  6.05065  72.4590  \n",
       "10057      NaN     NaN      NaN     NaN  6.05065  72.4590  \n",
       "\n",
       "[6 rows x 112 columns]"
      ]
     },
     "execution_count": 7,
     "metadata": {},
     "output_type": "execute_result"
    }
   ],
   "source": [
    "### Some cases with different VISCODE2 but same examdate_merge\n",
    "adnimerge[adnimerge.duplicated(subset=['RID','EXAMDATE_MERGE'],keep=False)]"
   ]
  },
  {
   "cell_type": "code",
   "execution_count": 8,
   "id": "b2614a9e-3c66-43f9-a7f9-5d0e3df60645",
   "metadata": {},
   "outputs": [],
   "source": [
    "## 4783,2014-03-13: m30 is wrong? no mri for date/viscode2 anyway (all data the same)\n",
    "## 1195,2011-02-15: m48 has an mri (m48 row has more data)\n",
    "## 1088,2013-01-23: ?? (m72 row has more data)\n",
    "\n",
    "adnimerge=adnimerge.drop([adnimerge.loc[(adnimerge['PTID'] == '035_S_4783') & (adnimerge['VISCODE2'] == 'm30')].index.values[0],\n",
    "                         adnimerge.loc[(adnimerge['PTID'] == '941_S_1195') & (adnimerge['VISCODE2'] == 'm42')].index.values[0],\n",
    "                         adnimerge.loc[(adnimerge['PTID'] == '128_S_1088') & (adnimerge['VISCODE2'] == 'm78')].index.values[0]]).reset_index(drop=True)"
   ]
  },
  {
   "cell_type": "code",
   "execution_count": 9,
   "id": "939e355e-9562-4877-b5fc-1e48267990b2",
   "metadata": {},
   "outputs": [
    {
     "name": "stdout",
     "output_type": "stream",
     "text": [
      "INFO:16417 rows and 112 columns\n",
      "INFO:2430 unique subjects\n"
     ]
    }
   ],
   "source": [
    "# print out basic information\n",
    "print(f\"INFO:{len(adnimerge)} rows and {len(adnimerge.columns)} columns\")\n",
    "print(f\"INFO:{len(adnimerge['RID'].unique())} unique subjects\")"
   ]
  },
  {
   "cell_type": "markdown",
   "id": "a77b4612-19ed-4561-820c-c35f61aee61e",
   "metadata": {},
   "source": [
    "#### Check key columns for missing / incorrect values"
   ]
  },
  {
   "cell_type": "code",
   "execution_count": 10,
   "id": "c3a82579-73fd-4461-9548-a4f4ae90914c",
   "metadata": {},
   "outputs": [
    {
     "name": "stdout",
     "output_type": "stream",
     "text": [
      "______________________________\n",
      "DX\n",
      "MCI         4989\n",
      "NaN         4959\n",
      "CN          4020\n",
      "Dementia    2449\n",
      "Name: count, dtype: int64\n",
      "\n",
      "______________________________\n",
      "PTGENDER\n",
      "Male      8977\n",
      "Female    7440\n",
      "Name: count, dtype: int64\n",
      "\n",
      "______________________________\n",
      "PTEDUCAT\n",
      "16    3917\n",
      "18    3221\n",
      "20    2343\n",
      "12    1856\n",
      "14    1704\n",
      "13     795\n",
      "19     745\n",
      "17     730\n",
      "15     649\n",
      "10     139\n",
      "8      128\n",
      "11      86\n",
      "9       39\n",
      "7       31\n",
      "6       30\n",
      "4        4\n",
      "Name: count, dtype: int64\n",
      "\n",
      "______________________________\n",
      "PTETHCAT\n",
      "Not Hisp/Latino    15794\n",
      "Hisp/Latino          550\n",
      "Unknown               73\n",
      "Name: count, dtype: int64\n",
      "\n",
      "______________________________\n",
      "PTRACCAT\n",
      "White                15098\n",
      "Black                  760\n",
      "Asian                  302\n",
      "More than one          186\n",
      "Unknown                 35\n",
      "Am Indian/Alaskan       28\n",
      "Hawaiian/Other PI        8\n",
      "Name: count, dtype: int64\n",
      "\n",
      "______________________________\n",
      "PTMARRY\n",
      "Married          12521\n",
      "Widowed           1872\n",
      "Divorced          1414\n",
      "Never married      549\n",
      "Unknown             60\n",
      "NaN                  1\n",
      "Name: count, dtype: int64\n",
      "\n",
      "______________________________\n",
      "AGE\n",
      "70.6    185\n",
      "72.6    180\n",
      "70.9    159\n",
      "76.4    152\n",
      "77.9    151\n",
      "       ... \n",
      "90.6      1\n",
      "88.0      1\n",
      "54.4      1\n",
      "86.0      1\n",
      "53.5      1\n",
      "Name: count, Length: 351, dtype: int64\n",
      "\n",
      "______________________________\n",
      "CDRSB\n",
      "NaN     4670\n",
      "0.0     3799\n",
      "0.5     1491\n",
      "1.0     1206\n",
      "1.5      913\n",
      "2.0      717\n",
      "2.5      565\n",
      "3.0      453\n",
      "3.5      390\n",
      "4.5      340\n",
      "5.0      330\n",
      "4.0      322\n",
      "6.0      249\n",
      "7.0      156\n",
      "5.5      144\n",
      "8.0      125\n",
      "10.0     102\n",
      "9.0       93\n",
      "11.0      73\n",
      "12.0      59\n",
      "13.0      40\n",
      "14.0      33\n",
      "6.5       32\n",
      "16.0      30\n",
      "17.0      24\n",
      "15.0      22\n",
      "18.0      22\n",
      "7.5        8\n",
      "9.5        5\n",
      "8.5        2\n",
      "10.5       1\n",
      "12.5       1\n",
      "Name: count, dtype: int64\n",
      "\n",
      "______________________________\n",
      "APOE4\n",
      "0.0    9120\n",
      "1.0    5577\n",
      "2.0    1355\n",
      "NaN     365\n",
      "Name: count, dtype: int64\n",
      "\n",
      "______________________________\n",
      "MMSE\n",
      "NaN     4948\n",
      "30.0    2849\n",
      "29.0    2297\n",
      "28.0    1433\n",
      "27.0    1063\n",
      "26.0     875\n",
      "25.0     674\n",
      "24.0     528\n",
      "23.0     371\n",
      "22.0     316\n",
      "21.0     244\n",
      "20.0     211\n",
      "19.0     129\n",
      "18.0      98\n",
      "17.0      84\n",
      "16.0      60\n",
      "15.0      44\n",
      "13.0      32\n",
      "14.0      32\n",
      "12.0      26\n",
      "11.0      24\n",
      "9.0       13\n",
      "10.0      13\n",
      "7.0       12\n",
      "8.0        9\n",
      "5.0        7\n",
      "4.0        6\n",
      "2.0        5\n",
      "6.0        5\n",
      "0.0        5\n",
      "3.0        3\n",
      "1.0        1\n",
      "Name: count, dtype: int64\n",
      "\n",
      "______________________________\n",
      "LDELTOTAL\n",
      "NaN     6975\n",
      "0.0     1475\n",
      "12.0     515\n",
      "9.0      512\n",
      "14.0     508\n",
      "10.0     495\n",
      "13.0     493\n",
      "11.0     489\n",
      "8.0      477\n",
      "15.0     456\n",
      "16.0     421\n",
      "7.0      386\n",
      "6.0      381\n",
      "1.0      360\n",
      "17.0     347\n",
      "2.0      345\n",
      "4.0      342\n",
      "3.0      340\n",
      "5.0      330\n",
      "18.0     299\n",
      "19.0     179\n",
      "20.0     135\n",
      "21.0      74\n",
      "22.0      42\n",
      "23.0      19\n",
      "24.0      14\n",
      "25.0       8\n",
      "Name: count, dtype: int64\n",
      "\n"
     ]
    }
   ],
   "source": [
    "keycols=['DX','PTGENDER','PTEDUCAT','PTETHCAT','PTRACCAT','PTMARRY','AGE','CDRSB','APOE4','MMSE','LDELTOTAL']\n",
    "for col in keycols:\n",
    "    print(\"______________________________\")\n",
    "    print(f\"{adnimerge[col].value_counts(dropna=False)}\")\n",
    "    print()\n",
    "    "
   ]
  },
  {
   "cell_type": "code",
   "execution_count": 11,
   "id": "5d074f8b-82e7-4819-ac68-8fae987fb2b0",
   "metadata": {},
   "outputs": [
    {
     "data": {
      "text/html": [
       "<div>\n",
       "<style scoped>\n",
       "    .dataframe tbody tr th:only-of-type {\n",
       "        vertical-align: middle;\n",
       "    }\n",
       "\n",
       "    .dataframe tbody tr th {\n",
       "        vertical-align: top;\n",
       "    }\n",
       "\n",
       "    .dataframe thead th {\n",
       "        text-align: right;\n",
       "    }\n",
       "</style>\n",
       "<table border=\"1\" class=\"dataframe\">\n",
       "  <thead>\n",
       "    <tr style=\"text-align: right;\">\n",
       "      <th></th>\n",
       "      <th>RID</th>\n",
       "      <th>PHASE_MERGE</th>\n",
       "      <th>PTID</th>\n",
       "      <th>SITE</th>\n",
       "      <th>VISCODE2</th>\n",
       "      <th>EXAMDATE_MERGE</th>\n",
       "      <th>DX_bl</th>\n",
       "      <th>AGE</th>\n",
       "      <th>PTGENDER</th>\n",
       "      <th>PTEDUCAT</th>\n",
       "      <th>...</th>\n",
       "      <th>EcogSPTotal_bl</th>\n",
       "      <th>ABETA_bl</th>\n",
       "      <th>TAU_bl</th>\n",
       "      <th>PTAU_bl</th>\n",
       "      <th>FDG_bl</th>\n",
       "      <th>PIB_bl</th>\n",
       "      <th>AV45_bl</th>\n",
       "      <th>FBB_bl</th>\n",
       "      <th>Years_bl</th>\n",
       "      <th>Month_bl</th>\n",
       "    </tr>\n",
       "  </thead>\n",
       "  <tbody>\n",
       "    <tr>\n",
       "      <th>0</th>\n",
       "      <td>2</td>\n",
       "      <td>ADNI1</td>\n",
       "      <td>011_S_0002</td>\n",
       "      <td>11</td>\n",
       "      <td>bl</td>\n",
       "      <td>2005-09-08</td>\n",
       "      <td>CN</td>\n",
       "      <td>74.3</td>\n",
       "      <td>Male</td>\n",
       "      <td>16</td>\n",
       "      <td>...</td>\n",
       "      <td>NaN</td>\n",
       "      <td>NaN</td>\n",
       "      <td>NaN</td>\n",
       "      <td>NaN</td>\n",
       "      <td>1.33615</td>\n",
       "      <td>NaN</td>\n",
       "      <td>NaN</td>\n",
       "      <td>NaN</td>\n",
       "      <td>0.000000</td>\n",
       "      <td>0.00000</td>\n",
       "    </tr>\n",
       "    <tr>\n",
       "      <th>1</th>\n",
       "      <td>3</td>\n",
       "      <td>ADNI1</td>\n",
       "      <td>011_S_0003</td>\n",
       "      <td>11</td>\n",
       "      <td>bl</td>\n",
       "      <td>2005-09-12</td>\n",
       "      <td>AD</td>\n",
       "      <td>81.3</td>\n",
       "      <td>Male</td>\n",
       "      <td>18</td>\n",
       "      <td>...</td>\n",
       "      <td>NaN</td>\n",
       "      <td>741.5</td>\n",
       "      <td>239.7</td>\n",
       "      <td>22.83</td>\n",
       "      <td>1.10860</td>\n",
       "      <td>NaN</td>\n",
       "      <td>NaN</td>\n",
       "      <td>NaN</td>\n",
       "      <td>0.000000</td>\n",
       "      <td>0.00000</td>\n",
       "    </tr>\n",
       "    <tr>\n",
       "      <th>2</th>\n",
       "      <td>3</td>\n",
       "      <td>ADNI1</td>\n",
       "      <td>011_S_0003</td>\n",
       "      <td>11</td>\n",
       "      <td>m06</td>\n",
       "      <td>2006-03-13</td>\n",
       "      <td>AD</td>\n",
       "      <td>81.3</td>\n",
       "      <td>Male</td>\n",
       "      <td>18</td>\n",
       "      <td>...</td>\n",
       "      <td>NaN</td>\n",
       "      <td>741.5</td>\n",
       "      <td>239.7</td>\n",
       "      <td>22.83</td>\n",
       "      <td>1.10860</td>\n",
       "      <td>NaN</td>\n",
       "      <td>NaN</td>\n",
       "      <td>NaN</td>\n",
       "      <td>0.498289</td>\n",
       "      <td>5.96721</td>\n",
       "    </tr>\n",
       "    <tr>\n",
       "      <th>3</th>\n",
       "      <td>3</td>\n",
       "      <td>ADNI1</td>\n",
       "      <td>011_S_0003</td>\n",
       "      <td>11</td>\n",
       "      <td>m12</td>\n",
       "      <td>2006-09-12</td>\n",
       "      <td>AD</td>\n",
       "      <td>81.3</td>\n",
       "      <td>Male</td>\n",
       "      <td>18</td>\n",
       "      <td>...</td>\n",
       "      <td>NaN</td>\n",
       "      <td>741.5</td>\n",
       "      <td>239.7</td>\n",
       "      <td>22.83</td>\n",
       "      <td>1.10860</td>\n",
       "      <td>NaN</td>\n",
       "      <td>NaN</td>\n",
       "      <td>NaN</td>\n",
       "      <td>0.999316</td>\n",
       "      <td>11.96720</td>\n",
       "    </tr>\n",
       "    <tr>\n",
       "      <th>4</th>\n",
       "      <td>3</td>\n",
       "      <td>ADNI1</td>\n",
       "      <td>011_S_0003</td>\n",
       "      <td>11</td>\n",
       "      <td>m24</td>\n",
       "      <td>2007-09-12</td>\n",
       "      <td>AD</td>\n",
       "      <td>81.3</td>\n",
       "      <td>Male</td>\n",
       "      <td>18</td>\n",
       "      <td>...</td>\n",
       "      <td>NaN</td>\n",
       "      <td>741.5</td>\n",
       "      <td>239.7</td>\n",
       "      <td>22.83</td>\n",
       "      <td>1.10860</td>\n",
       "      <td>NaN</td>\n",
       "      <td>NaN</td>\n",
       "      <td>NaN</td>\n",
       "      <td>1.998630</td>\n",
       "      <td>23.93440</td>\n",
       "    </tr>\n",
       "  </tbody>\n",
       "</table>\n",
       "<p>5 rows × 112 columns</p>\n",
       "</div>"
      ],
      "text/plain": [
       "   RID PHASE_MERGE        PTID  SITE VISCODE2 EXAMDATE_MERGE DX_bl   AGE  \\\n",
       "0    2       ADNI1  011_S_0002    11       bl     2005-09-08    CN  74.3   \n",
       "1    3       ADNI1  011_S_0003    11       bl     2005-09-12    AD  81.3   \n",
       "2    3       ADNI1  011_S_0003    11      m06     2006-03-13    AD  81.3   \n",
       "3    3       ADNI1  011_S_0003    11      m12     2006-09-12    AD  81.3   \n",
       "4    3       ADNI1  011_S_0003    11      m24     2007-09-12    AD  81.3   \n",
       "\n",
       "  PTGENDER  PTEDUCAT  ... EcogSPTotal_bl ABETA_bl TAU_bl  PTAU_bl   FDG_bl  \\\n",
       "0     Male        16  ...            NaN      NaN    NaN      NaN  1.33615   \n",
       "1     Male        18  ...            NaN    741.5  239.7    22.83  1.10860   \n",
       "2     Male        18  ...            NaN    741.5  239.7    22.83  1.10860   \n",
       "3     Male        18  ...            NaN    741.5  239.7    22.83  1.10860   \n",
       "4     Male        18  ...            NaN    741.5  239.7    22.83  1.10860   \n",
       "\n",
       "   PIB_bl  AV45_bl  FBB_bl  Years_bl  Month_bl  \n",
       "0     NaN      NaN     NaN  0.000000   0.00000  \n",
       "1     NaN      NaN     NaN  0.000000   0.00000  \n",
       "2     NaN      NaN     NaN  0.498289   5.96721  \n",
       "3     NaN      NaN     NaN  0.999316  11.96720  \n",
       "4     NaN      NaN     NaN  1.998630  23.93440  \n",
       "\n",
       "[5 rows x 112 columns]"
      ]
     },
     "execution_count": 11,
     "metadata": {},
     "output_type": "execute_result"
    }
   ],
   "source": [
    "adnimerge.head()"
   ]
  },
  {
   "cell_type": "code",
   "execution_count": null,
   "id": "c730a226-c8ce-4b48-a25d-8aa868d5a972",
   "metadata": {},
   "outputs": [],
   "source": []
  },
  {
   "cell_type": "code",
   "execution_count": null,
   "id": "5c685df0-cad3-41d8-bece-9a00654b383b",
   "metadata": {},
   "outputs": [],
   "source": []
  },
  {
   "cell_type": "markdown",
   "id": "1f2fa6ed-1c86-4502-b911-5bc3a0af8eb7",
   "metadata": {},
   "source": [
    "## Step 2: Diagnosis: check data"
   ]
  },
  {
   "cell_type": "code",
   "execution_count": 12,
   "id": "11ec63f2-e63b-4a5d-a04f-c2ccc5558f8e",
   "metadata": {
    "scrolled": true
   },
   "outputs": [
    {
     "name": "stdout",
     "output_type": "stream",
     "text": [
      "<class 'pandas.core.frame.DataFrame'>\n",
      "RangeIndex: 13817 entries, 0 to 13816\n",
      "Data columns (total 41 columns):\n",
      " #   Column                Non-Null Count  Dtype  \n",
      "---  ------                --------------  -----  \n",
      " 0   PHASE                 13817 non-null  object \n",
      " 1   PTID                  13817 non-null  object \n",
      " 2   RID                   13817 non-null  int64  \n",
      " 3   VISCODE               13817 non-null  object \n",
      " 4   VISCODE2              13524 non-null  object \n",
      " 5   EXAMDATE              13758 non-null  object \n",
      " 6   DIAGNOSIS             13789 non-null  float64\n",
      " 7   DXNORM                3868 non-null   float64\n",
      " 8   DXNODEP               3868 non-null   float64\n",
      " 9   DXMCI                 3868 non-null   float64\n",
      " 10  DXMDES                11344 non-null  object \n",
      " 11  DXMPTR1               8098 non-null   float64\n",
      " 12  DXMPTR2               8087 non-null   float64\n",
      " 13  DXMPTR3               8093 non-null   float64\n",
      " 14  DXMPTR4               8097 non-null   float64\n",
      " 15  DXMPTR5               8093 non-null   float64\n",
      " 16  DXMPTR6               8096 non-null   float64\n",
      " 17  DXMDUE                8131 non-null   float64\n",
      " 18  DXMOTHET              10151 non-null  object \n",
      " 19  DXDSEV                5509 non-null   float64\n",
      " 20  DXDDUE                1641 non-null   float64\n",
      " 21  DXAD                  3868 non-null   float64\n",
      " 22  DXAPP                 5427 non-null   float64\n",
      " 23  DXAPROB               3868 non-null   object \n",
      " 24  DXAPOSS               10040 non-null  object \n",
      " 25  DXPARK                13718 non-null  float64\n",
      " 26  DXPDES                3868 non-null   float64\n",
      " 27  DXPCOG                3868 non-null   float64\n",
      " 28  DXPATYP               3868 non-null   float64\n",
      " 29  DXDEP                 9379 non-null   float64\n",
      " 30  DXOTHDEM              3868 non-null   float64\n",
      " 31  DXODES                3905 non-null   float64\n",
      " 32  DXCONFID              3868 non-null   float64\n",
      " 33  ID                    13817 non-null  int64  \n",
      " 34  SITEID                13817 non-null  int64  \n",
      " 35  USERDATE              13817 non-null  object \n",
      " 36  USERDATE2             4358 non-null   object \n",
      " 37  DD_CRF_VERSION_LABEL  282 non-null    object \n",
      " 38  LANGUAGE_CODE         282 non-null    object \n",
      " 39  HAS_QC_ERROR          282 non-null    float64\n",
      " 40  update_stamp          13817 non-null  object \n",
      "dtypes: float64(24), int64(3), object(14)\n",
      "memory usage: 4.3+ MB\n"
     ]
    }
   ],
   "source": [
    "dxdf=pd.read_csv(\"ADNIspreadsheets/DXSUM_PDXCONV_03Jun2024.csv\")\n",
    "dxdf.info()"
   ]
  },
  {
   "cell_type": "code",
   "execution_count": 13,
   "id": "9e1b4aa6-29ed-411c-8769-6328b6a13e3b",
   "metadata": {},
   "outputs": [
    {
     "name": "stdout",
     "output_type": "stream",
     "text": [
      "28 null diagnosis values.\n",
      "Dropped 319 rows with null VISCODE2, DIAGNOSIS, or VISCODE2=='uns1'\n"
     ]
    }
   ],
   "source": [
    "# Remove rows where \"VISCODE2\" is null, \"VISCODE2\" == uns1, or \"DIAGNOSIS\" is null\n",
    "print(f\"{len(dxdf.loc[pd.isnull(dxdf['DIAGNOSIS'])])} null diagnosis values.\")\n",
    "oldlen=len(dxdf)\n",
    "dxdf = dxdf.loc[(pd.notnull(dxdf['VISCODE2'])) & (dxdf['VISCODE2'] != 'uns1') & (pd.notnull(dxdf['DIAGNOSIS']))]\n",
    "newlen=len(dxdf)\n",
    "print(f\"Dropped {oldlen-newlen} rows with null VISCODE2, DIAGNOSIS, or VISCODE2=='uns1'\")"
   ]
  },
  {
   "cell_type": "code",
   "execution_count": 14,
   "id": "4fba5c5b-0010-4765-a502-f6cc5f003445",
   "metadata": {},
   "outputs": [
    {
     "name": "stdout",
     "output_type": "stream",
     "text": [
      "Check for duplicate RID/VISCODE2:\n"
     ]
    },
    {
     "data": {
      "text/html": [
       "<div>\n",
       "<style scoped>\n",
       "    .dataframe tbody tr th:only-of-type {\n",
       "        vertical-align: middle;\n",
       "    }\n",
       "\n",
       "    .dataframe tbody tr th {\n",
       "        vertical-align: top;\n",
       "    }\n",
       "\n",
       "    .dataframe thead th {\n",
       "        text-align: right;\n",
       "    }\n",
       "</style>\n",
       "<table border=\"1\" class=\"dataframe\">\n",
       "  <thead>\n",
       "    <tr style=\"text-align: right;\">\n",
       "      <th></th>\n",
       "      <th>PHASE</th>\n",
       "      <th>PTID</th>\n",
       "      <th>RID</th>\n",
       "      <th>VISCODE</th>\n",
       "      <th>VISCODE2</th>\n",
       "      <th>EXAMDATE</th>\n",
       "      <th>DIAGNOSIS</th>\n",
       "      <th>DXNORM</th>\n",
       "      <th>DXNODEP</th>\n",
       "      <th>DXMCI</th>\n",
       "      <th>...</th>\n",
       "      <th>DXODES</th>\n",
       "      <th>DXCONFID</th>\n",
       "      <th>ID</th>\n",
       "      <th>SITEID</th>\n",
       "      <th>USERDATE</th>\n",
       "      <th>USERDATE2</th>\n",
       "      <th>DD_CRF_VERSION_LABEL</th>\n",
       "      <th>LANGUAGE_CODE</th>\n",
       "      <th>HAS_QC_ERROR</th>\n",
       "      <th>update_stamp</th>\n",
       "    </tr>\n",
       "  </thead>\n",
       "  <tbody>\n",
       "    <tr>\n",
       "      <th>4342</th>\n",
       "      <td>ADNIGO</td>\n",
       "      <td>031_S_0830</td>\n",
       "      <td>830</td>\n",
       "      <td>m60</td>\n",
       "      <td>m60</td>\n",
       "      <td>2011-09-22</td>\n",
       "      <td>3.0</td>\n",
       "      <td>NaN</td>\n",
       "      <td>NaN</td>\n",
       "      <td>NaN</td>\n",
       "      <td>...</td>\n",
       "      <td>NaN</td>\n",
       "      <td>NaN</td>\n",
       "      <td>958</td>\n",
       "      <td>21</td>\n",
       "      <td>2014-07-08</td>\n",
       "      <td>NaN</td>\n",
       "      <td>NaN</td>\n",
       "      <td>NaN</td>\n",
       "      <td>NaN</td>\n",
       "      <td>2014-07-08 19:01:25.0</td>\n",
       "    </tr>\n",
       "    <tr>\n",
       "      <th>4717</th>\n",
       "      <td>ADNI2</td>\n",
       "      <td>031_S_0830</td>\n",
       "      <td>830</td>\n",
       "      <td>v06</td>\n",
       "      <td>m60</td>\n",
       "      <td>2011-09-26</td>\n",
       "      <td>3.0</td>\n",
       "      <td>NaN</td>\n",
       "      <td>NaN</td>\n",
       "      <td>NaN</td>\n",
       "      <td>...</td>\n",
       "      <td>NaN</td>\n",
       "      <td>NaN</td>\n",
       "      <td>764</td>\n",
       "      <td>21</td>\n",
       "      <td>2011-09-26</td>\n",
       "      <td>2011-09-26</td>\n",
       "      <td>NaN</td>\n",
       "      <td>NaN</td>\n",
       "      <td>NaN</td>\n",
       "      <td>2013-03-14 19:16:45.0</td>\n",
       "    </tr>\n",
       "  </tbody>\n",
       "</table>\n",
       "<p>2 rows × 41 columns</p>\n",
       "</div>"
      ],
      "text/plain": [
       "       PHASE        PTID  RID VISCODE VISCODE2    EXAMDATE  DIAGNOSIS  DXNORM  \\\n",
       "4342  ADNIGO  031_S_0830  830     m60      m60  2011-09-22        3.0     NaN   \n",
       "4717   ADNI2  031_S_0830  830     v06      m60  2011-09-26        3.0     NaN   \n",
       "\n",
       "      DXNODEP  DXMCI  ... DXODES  DXCONFID   ID  SITEID    USERDATE  \\\n",
       "4342      NaN    NaN  ...    NaN       NaN  958      21  2014-07-08   \n",
       "4717      NaN    NaN  ...    NaN       NaN  764      21  2011-09-26   \n",
       "\n",
       "       USERDATE2  DD_CRF_VERSION_LABEL  LANGUAGE_CODE HAS_QC_ERROR  \\\n",
       "4342         NaN                   NaN            NaN          NaN   \n",
       "4717  2011-09-26                   NaN            NaN          NaN   \n",
       "\n",
       "               update_stamp  \n",
       "4342  2014-07-08 19:01:25.0  \n",
       "4717  2013-03-14 19:16:45.0  \n",
       "\n",
       "[2 rows x 41 columns]"
      ]
     },
     "execution_count": 14,
     "metadata": {},
     "output_type": "execute_result"
    }
   ],
   "source": [
    "print(\"Check for duplicate RID/VISCODE2:\")\n",
    "dxdf[dxdf.duplicated(subset=['RID','VISCODE2'],keep=False)]"
   ]
  },
  {
   "cell_type": "code",
   "execution_count": 15,
   "id": "98a51b82-c4ef-4c13-8b8f-0c4d02c8a07c",
   "metadata": {},
   "outputs": [
    {
     "name": "stdout",
     "output_type": "stream",
     "text": [
      "Check: should now be 0 duplicates: 0\n"
     ]
    }
   ],
   "source": [
    "## remove instance where RID=830 & VISCODE == 'm60'\n",
    "dxdf=dxdf.drop([dxdf.loc[(dxdf['RID'] == 830) & (dxdf['VISCODE'] == 'm60')].index.values[0]])\n",
    "    \n",
    "print(f\"Check: should now be 0 duplicates: {len(dxdf[dxdf.duplicated(subset=['RID','VISCODE2'],keep=False)])}\")"
   ]
  },
  {
   "cell_type": "code",
   "execution_count": 16,
   "id": "23fb2304-59b4-4a43-ae57-2f6aa77228e3",
   "metadata": {},
   "outputs": [
    {
     "name": "stdout",
     "output_type": "stream",
     "text": [
      "Check: number of duplicates with sc replaced: 2930\n"
     ]
    }
   ],
   "source": [
    "## bl and sc are essentially the same visit.\n",
    "## replace sc with bl, check for duplicate cases again\n",
    "dxdf['TMP_VISCODE2']=None\n",
    "for index,row in dxdf.iterrows():\n",
    "    if row['VISCODE2'] == 'sc':\n",
    "        dxdf.at[index,'VISCODE2'] = \"bl\"\n",
    "        dxdf.at[index,'TMP_VISCODE2'] = 'sc'\n",
    "        \n",
    "print(f\"Check: number of duplicates with sc replaced: \\\n",
    "{len(dxdf[dxdf.duplicated(subset=['RID','VISCODE2'],keep=False)])}\")"
   ]
  },
  {
   "cell_type": "code",
   "execution_count": 17,
   "id": "31ca697a-101c-49f1-94f1-4a93f728a01f",
   "metadata": {},
   "outputs": [
    {
     "name": "stdout",
     "output_type": "stream",
     "text": [
      "Check: number of duplicates: 0\n"
     ]
    }
   ],
   "source": [
    "## To remove duplicates, keep any duplicate that was originally a \"bl\"\n",
    "dxdf_formatted=dxdf.sort_values('TMP_VISCODE2', ascending=False)\\\n",
    "                    .drop_duplicates(['RID','VISCODE2'],keep='last')\\\n",
    "                    .reset_index(drop=True)\n",
    "\n",
    "print(f\"Check: number of duplicates: \\\n",
    "{len(dxdf_formatted[dxdf_formatted.duplicated(subset=['RID','VISCODE2'],keep=False)])}\")"
   ]
  },
  {
   "cell_type": "code",
   "execution_count": 18,
   "id": "e025e69b-907f-4ba3-908e-168d8ed58dd7",
   "metadata": {},
   "outputs": [],
   "source": [
    "## select columns to merge\n",
    "dxdf_tomerge=dxdf_formatted[['RID','VISCODE2','DIAGNOSIS']]\n",
    "dxdf_tomerge.rename(columns={'DIAGNOSIS':\"DX_validate\"},inplace=True)"
   ]
  },
  {
   "cell_type": "code",
   "execution_count": 19,
   "id": "d9770ae0-c02f-4c14-92a9-93579b267035",
   "metadata": {},
   "outputs": [
    {
     "name": "stdout",
     "output_type": "stream",
     "text": [
      "Gained 32 data points.\n",
      "Still have 4927 null values.\n"
     ]
    }
   ],
   "source": [
    "## do merge\n",
    "adnimergedx = adnimerge.merge(dxdf_tomerge,on=['RID','VISCODE2'], how='left')\n",
    "print(f\"Gained {len(adnimergedx.loc[(pd.isnull(adnimergedx['DX'])) & (pd.notnull(adnimergedx['DX_validate']))])} data points.\")\n",
    "print(f\"Still have {len(adnimergedx.loc[(pd.isnull(adnimergedx['DX'])) & (pd.isnull(adnimergedx['DX_validate']))])} null values.\")"
   ]
  },
  {
   "cell_type": "code",
   "execution_count": 20,
   "id": "33bd33d3-4b3d-4273-83fb-83d070f2efa4",
   "metadata": {},
   "outputs": [
    {
     "data": {
      "text/plain": [
       "DX        DX_validate\n",
       "MCI       2.0            4989\n",
       "CN        1.0            4020\n",
       "Dementia  3.0            2449\n",
       "Name: count, dtype: int64"
      ]
     },
     "execution_count": 20,
     "metadata": {},
     "output_type": "execute_result"
    }
   ],
   "source": [
    "adnimergedx.value_counts(['DX','DX_validate'])"
   ]
  },
  {
   "cell_type": "code",
   "execution_count": 21,
   "id": "2abd4619-1184-4b55-a0aa-28f985fa2baf",
   "metadata": {},
   "outputs": [
    {
     "name": "stdout",
     "output_type": "stream",
     "text": [
      "DX   DX_validate\n",
      "2.0  2.0            5002\n",
      "1.0  1.0            4032\n",
      "3.0  3.0            2456\n",
      "Name: count, dtype: int64\n"
     ]
    }
   ],
   "source": [
    "## Extrapolate info from DX_validate to DX and make both float\n",
    "for index,row in adnimergedx.iterrows():\n",
    "    if pd.isnull(row['DX']) and pd.notnull(row['DX_validate']):\n",
    "        if row['DX_validate'] == 1.0:\n",
    "            dxval=1.0\n",
    "        elif row['DX_validate'] == 2.0: \n",
    "            dxval =2.0\n",
    "        elif row['DX_validate'] == 3.0: \n",
    "            dxval = 3.0\n",
    "        else:\n",
    "            print(f\"{row['DX_validate']} invalid\")\n",
    "    elif pd.notnull(row['DX']):\n",
    "        if row['DX'] == 'CN':\n",
    "            dxval=1.0\n",
    "        elif row['DX'] == 'MCI':\n",
    "            dxval=2.0\n",
    "        elif row['DX'] == 'Dementia':\n",
    "            dxval=3.0\n",
    "    else:\n",
    "        dxval=None\n",
    "    \n",
    "    adnimergedx.at[index,'DX'] = dxval\n",
    "\n",
    "print(adnimergedx.value_counts(['DX','DX_validate']))"
   ]
  },
  {
   "cell_type": "code",
   "execution_count": 22,
   "id": "77b7d919-afbf-44b2-bc23-6d535207fbbf",
   "metadata": {},
   "outputs": [
    {
     "name": "stdout",
     "output_type": "stream",
     "text": [
      "All values the same between original column and validate column, dropping validate column.\n",
      "<class 'pandas.core.frame.DataFrame'>\n",
      "RangeIndex: 16417 entries, 0 to 16416\n",
      "Columns: 112 entries, RID to Month_bl\n",
      "dtypes: datetime64[ns](1), float64(88), int64(3), object(20)\n",
      "memory usage: 14.0+ MB\n"
     ]
    }
   ],
   "source": [
    "## Check for any data points that are different both columns\n",
    "nomatch=len(adnimergedx.loc[(pd.notnull(adnimergedx['DX'])) & (pd.notnull(adnimergedx[\"DX_validate\"]))\n",
    "& (adnimergedx['DX'] != adnimergedx['DX_validate'])])  ## if both are not null and value does not match\n",
    "\n",
    "## If 0 columns different, drop validate column\n",
    "if nomatch == 0:\n",
    "    print('All values the same between original column and validate column, dropping validate column.')\n",
    "    adnimergedx.drop(columns=['DX_validate'],inplace=True)\n",
    "else:\n",
    "    print('Some values different between original column and validate column, keeping validate column.')\n",
    "\n",
    "adnimergedx.info()"
   ]
  },
  {
   "cell_type": "code",
   "execution_count": 23,
   "id": "0e393a21-2142-4a5d-ad03-9a0d2f2fc558",
   "metadata": {},
   "outputs": [
    {
     "name": "stdout",
     "output_type": "stream",
     "text": [
      "2 cases are baseline and have no DX value--use DX_bl value\n"
     ]
    }
   ],
   "source": [
    "# If visit is baseline and DX is still null, use value from DX_bl column\n",
    "print(f\"{len(adnimergedx.loc[(pd.isnull(adnimergedx['DX'])) & (adnimergedx['VISCODE2'] =='bl')])} cases are baseline and have no DX value--use DX_bl value\")\n",
    "## at the moment, 2 cases and both are EMCI at bl. Use value 2.0\n",
    "adnimergedx.loc[(pd.isnull(adnimergedx['DX'])) & (adnimergedx['VISCODE2'] =='bl'),'DX'] = 2.0"
   ]
  },
  {
   "cell_type": "code",
   "execution_count": 24,
   "id": "1948391d-d562-405a-8f81-a1fd24d9882e",
   "metadata": {},
   "outputs": [
    {
     "name": "stdout",
     "output_type": "stream",
     "text": [
      "DX \n",
      "2.0    5004\n",
      "NaN    4925\n",
      "1.0    4032\n",
      "3.0    2456\n",
      "Name: count, dtype: int64\n"
     ]
    }
   ],
   "source": [
    "print(adnimergedx.value_counts(['DX'],dropna=False))"
   ]
  },
  {
   "cell_type": "code",
   "execution_count": null,
   "id": "05ea6ff6-e18f-46eb-bd00-45c0ed6f0780",
   "metadata": {},
   "outputs": [],
   "source": []
  },
  {
   "cell_type": "code",
   "execution_count": null,
   "id": "808fb105-d431-48af-93c5-1afad6f708ba",
   "metadata": {},
   "outputs": [],
   "source": []
  },
  {
   "cell_type": "code",
   "execution_count": null,
   "id": "cf8cc2ec-f090-4b7a-b00b-705f4eb0e04d",
   "metadata": {},
   "outputs": [],
   "source": []
  },
  {
   "cell_type": "markdown",
   "id": "37384aae-cfda-4de8-a69a-7672a3e3c1f7",
   "metadata": {
    "jp-MarkdownHeadingCollapsed": true
   },
   "source": [
    "## Step 3: Demographics: check data, add Birthdate"
   ]
  },
  {
   "cell_type": "code",
   "execution_count": 25,
   "id": "b2278a3d-1a38-4291-bd20-1969189e62b3",
   "metadata": {},
   "outputs": [
    {
     "name": "stdout",
     "output_type": "stream",
     "text": [
      "<class 'pandas.core.frame.DataFrame'>\n",
      "RangeIndex: 4857 entries, 0 to 4856\n",
      "Data columns (total 31 columns):\n",
      " #   Column        Non-Null Count  Dtype  \n",
      "---  ------        --------------  -----  \n",
      " 0   Phase         4857 non-null   object \n",
      " 1   ID            4857 non-null   int64  \n",
      " 2   PTID          4856 non-null   object \n",
      " 3   RID           4857 non-null   int64  \n",
      " 4   SITEID        4857 non-null   int64  \n",
      " 5   VISCODE       4857 non-null   object \n",
      " 6   VISCODE2      4855 non-null   object \n",
      " 7   VISDATE       4854 non-null   object \n",
      " 8   USERDATE      4857 non-null   object \n",
      " 9   USERDATE2     1699 non-null   object \n",
      " 10  PTSOURCE      4855 non-null   float64\n",
      " 11  PTGENDER      4736 non-null   float64\n",
      " 12  PTDOB         4679 non-null   object \n",
      " 13  PTDOBYY       4679 non-null   float64\n",
      " 14  PTHAND        4723 non-null   float64\n",
      " 15  PTMARRY       4850 non-null   float64\n",
      " 16  PTEDUCAT      4722 non-null   float64\n",
      " 17  PTWORKHS      2537 non-null   float64\n",
      " 18  PTNOTRT       4837 non-null   float64\n",
      " 19  PTRTYR        4529 non-null   object \n",
      " 20  PTRTYR_DRVD   3749 non-null   float64\n",
      " 21  PTHOME        4847 non-null   float64\n",
      " 22  PTTLANG       4736 non-null   float64\n",
      " 23  PTPLANG       4736 non-null   float64\n",
      " 24  PTCOGBEG      2680 non-null   float64\n",
      " 25  PTMCIBEG      449 non-null    float64\n",
      " 26  PTADBEG       1512 non-null   float64\n",
      " 27  PTADDX        2663 non-null   float64\n",
      " 28  PTETHCAT      4736 non-null   float64\n",
      " 29  PTRACCAT      4736 non-null   float64\n",
      " 30  update_stamp  4857 non-null   object \n",
      "dtypes: float64(18), int64(3), object(10)\n",
      "memory usage: 1.1+ MB\n"
     ]
    }
   ],
   "source": [
    "demog=pd.read_csv(\"./ADNIspreadsheets/PTDEMOG_ADNI1GO23.csv\")\n",
    "demog.info()"
   ]
  },
  {
   "cell_type": "code",
   "execution_count": null,
   "id": "90e36a77-5bc4-4d98-ad11-75b5192a7632",
   "metadata": {},
   "outputs": [],
   "source": []
  },
  {
   "cell_type": "markdown",
   "id": "40564de0-ae09-4f02-a6f5-3bd85840cb2b",
   "metadata": {},
   "source": [
    "#### Missing demo data in adnimerge"
   ]
  },
  {
   "cell_type": "code",
   "execution_count": 26,
   "id": "0018da8b-5d8e-46cb-b13c-2c7f2a0d45eb",
   "metadata": {},
   "outputs": [
    {
     "name": "stdout",
     "output_type": "stream",
     "text": [
      "1 null PTMARRY\n",
      "0 null PTGENDER\n",
      "0 null PTEDUCAT\n",
      "0 null PTETHCAT\n",
      "0 null PTRACCAT\n",
      "\n",
      "Any null AGE values can be filled by birthdate addition:\n",
      "9 null AGE\n"
     ]
    }
   ],
   "source": [
    "print(f\"{len(adnimerge.loc[pd.isnull(adnimerge['PTMARRY'])])} null PTMARRY\")\n",
    "print(f\"{len(adnimerge.loc[pd.isnull(adnimerge['PTGENDER'])])} null PTGENDER\")\n",
    "print(f\"{len(adnimerge.loc[pd.isnull(adnimerge['PTEDUCAT'])])} null PTEDUCAT\")\n",
    "print(f\"{len(adnimerge.loc[pd.isnull(adnimerge['PTETHCAT'])])} null PTETHCAT\")\n",
    "print(f\"{len(adnimerge.loc[pd.isnull(adnimerge['PTRACCAT'])])} null PTRACCAT\")\n",
    "print()\n",
    "print('Any null AGE values can be filled by birthdate addition:')\n",
    "print(f\"{len(adnimerge.loc[pd.isnull(adnimerge['AGE'])])} null AGE\")"
   ]
  },
  {
   "cell_type": "code",
   "execution_count": 27,
   "id": "ca1c2c15-eebb-4767-a338-24aeb7ea2097",
   "metadata": {},
   "outputs": [
    {
     "data": {
      "text/plain": [
       "nan"
      ]
     },
     "execution_count": 27,
     "metadata": {},
     "output_type": "execute_result"
    }
   ],
   "source": [
    "## check demog for data for the one subject missing PTMARRY:\n",
    "demog.loc[demog['RID'] == adnimerge.loc[pd.isnull(adnimerge['PTMARRY'])]['RID'].values[0]]['PTMARRY'].values[0]"
   ]
  },
  {
   "cell_type": "markdown",
   "id": "ddbd4bd6-c8c7-4e8a-9fb9-0d8fcbbbe2e3",
   "metadata": {},
   "source": [
    "#### Add birthdate to adnimerge"
   ]
  },
  {
   "cell_type": "code",
   "execution_count": 28,
   "id": "c03e0c1e-197b-4b60-94ca-f5314e32ecf3",
   "metadata": {},
   "outputs": [
    {
     "name": "stdout",
     "output_type": "stream",
     "text": [
      "<class 'pandas.core.frame.DataFrame'>\n",
      "RangeIndex: 4857 entries, 0 to 4856\n",
      "Data columns (total 3 columns):\n",
      " #   Column   Non-Null Count  Dtype  \n",
      "---  ------   --------------  -----  \n",
      " 0   RID      4857 non-null   int64  \n",
      " 1   PTDOB    4679 non-null   object \n",
      " 2   PTDOBYY  4679 non-null   float64\n",
      "dtypes: float64(1), int64(1), object(1)\n",
      "memory usage: 114.0+ KB\n"
     ]
    }
   ],
   "source": [
    "## Birthdate related cols only\n",
    "demog2=demog[['RID','PTDOB','PTDOBYY']]\n",
    "demog2.info()"
   ]
  },
  {
   "cell_type": "code",
   "execution_count": 29,
   "id": "29d05e02-cff4-4b1c-8b72-b4a6d8ab908b",
   "metadata": {},
   "outputs": [
    {
     "name": "stdout",
     "output_type": "stream",
     "text": [
      "Check there are 0 birth years later than 1974: 0\n"
     ]
    }
   ],
   "source": [
    "# assume birth year later than 1974 to be invalid--make sure there are none\n",
    "print(f\"Check there are 0 birth years later than 1974: {len(demog2.loc[demog2['PTDOBYY'] >= 1974])}\")"
   ]
  },
  {
   "cell_type": "code",
   "execution_count": 30,
   "id": "fdfdd2fe-0a91-411d-9fbb-5360d4070046",
   "metadata": {},
   "outputs": [
    {
     "name": "stdout",
     "output_type": "stream",
     "text": [
      "Removing 178 null PTDOB values from demog sheet.\n"
     ]
    }
   ],
   "source": [
    "## remove null values:\n",
    "print(f\"Removing {len(demog2.loc[pd.isnull(demog2['PTDOB'])])} null PTDOB values from demog sheet.\")\n",
    "demog3 = demog2.loc[(pd.notnull(demog2['PTDOBYY'])) & (pd.notnull(demog2['PTDOB']))].reset_index(drop=True)"
   ]
  },
  {
   "cell_type": "code",
   "execution_count": 31,
   "id": "123d6281-0f9b-4969-b3a5-60386850208d",
   "metadata": {},
   "outputs": [],
   "source": [
    "## Confirm: all dates the same for each RID\n",
    "demosubs=demog3['RID'].unique()\n",
    "for sub in demosubs:\n",
    "    match=demog3.loc[demog3['RID'] == sub]\n",
    "    alldobs=match['PTDOB'].values.tolist()\n",
    "    if len(alldobs) > 1:\n",
    "        # print(alldobs)\n",
    "        setdob=set(alldobs)\n",
    "        if len(setdob) > 1: \n",
    "            print('more than one')"
   ]
  },
  {
   "cell_type": "code",
   "execution_count": 32,
   "id": "52dae7fe-b48a-4903-986a-625020f9f020",
   "metadata": {
    "scrolled": true
   },
   "outputs": [
    {
     "name": "stdout",
     "output_type": "stream",
     "text": [
      "<class 'pandas.core.frame.DataFrame'>\n",
      "RangeIndex: 4079 entries, 0 to 4078\n",
      "Data columns (total 3 columns):\n",
      " #   Column   Non-Null Count  Dtype  \n",
      "---  ------   --------------  -----  \n",
      " 0   RID      4079 non-null   int64  \n",
      " 1   PTDOB    4079 non-null   object \n",
      " 2   PTDOBYY  4079 non-null   float64\n",
      "dtypes: float64(1), int64(1), object(1)\n",
      "memory usage: 95.7+ KB\n"
     ]
    }
   ],
   "source": [
    "## Drop duplicate RIDs\n",
    "demog4 = demog3.drop_duplicates(subset='RID',keep='first').reset_index(drop=True)\n",
    "demog4.info()"
   ]
  },
  {
   "cell_type": "code",
   "execution_count": 33,
   "id": "08c5e9dd-c0ee-4b21-b59b-69c7e17f6f52",
   "metadata": {},
   "outputs": [
    {
     "name": "stdout",
     "output_type": "stream",
     "text": [
      "<class 'pandas.core.frame.DataFrame'>\n",
      "RangeIndex: 4079 entries, 0 to 4078\n",
      "Data columns (total 4 columns):\n",
      " #   Column       Non-Null Count  Dtype  \n",
      "---  ------       --------------  -----  \n",
      " 0   RID          4079 non-null   int64  \n",
      " 1   PTDOB        4079 non-null   object \n",
      " 2   PTDOBYY      4079 non-null   float64\n",
      " 3   PTBIRTHDATE  4079 non-null   object \n",
      "dtypes: float64(1), int64(1), object(2)\n",
      "memory usage: 127.6+ KB\n"
     ]
    }
   ],
   "source": [
    "## Add YYYY-MM-DD column to demog df\n",
    "demog4['PTBIRTHDATE']=None\n",
    "for index,row in demog4.iterrows():\n",
    "    doblist=row['PTDOB'].split('/')\n",
    "    newdob=doblist[1] + \"-\" + doblist[0]  + \"-01\"\n",
    "    demog4.at[index,'PTBIRTHDATE'] = newdob\n",
    "    \n",
    "demog4.info()"
   ]
  },
  {
   "cell_type": "code",
   "execution_count": 34,
   "id": "e3483e65-3940-4b22-9575-c45bbcac0130",
   "metadata": {},
   "outputs": [],
   "source": [
    "demog4.drop(columns=['PTDOB'],inplace=True)"
   ]
  },
  {
   "cell_type": "code",
   "execution_count": 35,
   "id": "475e821f-4606-4e1c-8e8a-3be3394991bc",
   "metadata": {},
   "outputs": [
    {
     "name": "stdout",
     "output_type": "stream",
     "text": [
      "2430\n",
      "2430\n"
     ]
    }
   ],
   "source": [
    "## Are all subs in adnimerge in demog sheet?\n",
    "adnisubs=adnimerge['RID'].unique()\n",
    "print(len(adnisubs))\n",
    "count=0\n",
    "for sub in adnisubs: \n",
    "    if sub in demosubs:\n",
    "        count +=1\n",
    "print(count)"
   ]
  },
  {
   "cell_type": "code",
   "execution_count": 36,
   "id": "1699fba2-0c7f-4bea-ada7-51fd16314fd7",
   "metadata": {},
   "outputs": [
    {
     "data": {
      "text/plain": [
       "0"
      ]
     },
     "execution_count": 36,
     "metadata": {},
     "output_type": "execute_result"
    }
   ],
   "source": [
    "## Add birthdates to ADNIMERGE df\n",
    "adnimergebd=adnimergedx.merge(demog4,on=['RID'],how='left',validate=\"m:1\")\n",
    "## check for any nulls\n",
    "len(adnimergebd.loc[pd.isnull(adnimergebd['PTBIRTHDATE'])])"
   ]
  },
  {
   "cell_type": "code",
   "execution_count": 37,
   "id": "e5a168a8-f917-4743-82c2-9450cc651b9a",
   "metadata": {},
   "outputs": [
    {
     "data": {
      "text/html": [
       "<div>\n",
       "<style scoped>\n",
       "    .dataframe tbody tr th:only-of-type {\n",
       "        vertical-align: middle;\n",
       "    }\n",
       "\n",
       "    .dataframe tbody tr th {\n",
       "        vertical-align: top;\n",
       "    }\n",
       "\n",
       "    .dataframe thead th {\n",
       "        text-align: right;\n",
       "    }\n",
       "</style>\n",
       "<table border=\"1\" class=\"dataframe\">\n",
       "  <thead>\n",
       "    <tr style=\"text-align: right;\">\n",
       "      <th></th>\n",
       "      <th>RID</th>\n",
       "      <th>PHASE_MERGE</th>\n",
       "      <th>PTID</th>\n",
       "      <th>SITE</th>\n",
       "      <th>VISCODE2</th>\n",
       "      <th>EXAMDATE_MERGE</th>\n",
       "      <th>DX_bl</th>\n",
       "      <th>AGE</th>\n",
       "      <th>PTGENDER</th>\n",
       "      <th>PTEDUCAT</th>\n",
       "      <th>...</th>\n",
       "      <th>TAU_bl</th>\n",
       "      <th>PTAU_bl</th>\n",
       "      <th>FDG_bl</th>\n",
       "      <th>PIB_bl</th>\n",
       "      <th>AV45_bl</th>\n",
       "      <th>FBB_bl</th>\n",
       "      <th>Years_bl</th>\n",
       "      <th>Month_bl</th>\n",
       "      <th>PTDOBYY</th>\n",
       "      <th>PTBIRTHDATE</th>\n",
       "    </tr>\n",
       "  </thead>\n",
       "  <tbody>\n",
       "  </tbody>\n",
       "</table>\n",
       "<p>0 rows × 114 columns</p>\n",
       "</div>"
      ],
      "text/plain": [
       "Empty DataFrame\n",
       "Columns: [RID, PHASE_MERGE, PTID, SITE, VISCODE2, EXAMDATE_MERGE, DX_bl, AGE, PTGENDER, PTEDUCAT, PTETHCAT, PTRACCAT, PTMARRY, APOE4, FDG, PIB, AV45, FBB, ABETA, TAU, PTAU, CDRSB, ADAS11, ADAS13, ADASQ4, MMSE, RAVLT_immediate, RAVLT_learning, RAVLT_forgetting, RAVLT_perc_forgetting, LDELTOTAL, DIGITSCOR, TRABSCOR, FAQ, MOCA, EcogPtMem, EcogPtLang, EcogPtVisspat, EcogPtPlan, EcogPtOrgan, EcogPtDivatt, EcogPtTotal, EcogSPMem, EcogSPLang, EcogSPVisspat, EcogSPPlan, EcogSPOrgan, EcogSPDivatt, EcogSPTotal, FLDSTRENG, FSVERSION, IMAGEUID, Ventricles, Hippocampus, WholeBrain, Entorhinal, Fusiform, MidTemp, ICV, DX, mPACCdigit, mPACCtrailsB, EXAMDATE_bl, CDRSB_bl, ADAS11_bl, ADAS13_bl, ADASQ4_bl, MMSE_bl, RAVLT_immediate_bl, RAVLT_learning_bl, RAVLT_forgetting_bl, RAVLT_perc_forgetting_bl, LDELTOTAL_BL, DIGITSCOR_bl, TRABSCOR_bl, FAQ_bl, mPACCdigit_bl, mPACCtrailsB_bl, FLDSTRENG_bl, FSVERSION_bl, IMAGEUID_bl, Ventricles_bl, Hippocampus_bl, WholeBrain_bl, Entorhinal_bl, Fusiform_bl, MidTemp_bl, ICV_bl, MOCA_bl, EcogPtMem_bl, EcogPtLang_bl, EcogPtVisspat_bl, EcogPtPlan_bl, EcogPtOrgan_bl, EcogPtDivatt_bl, EcogPtTotal_bl, EcogSPMem_bl, EcogSPLang_bl, EcogSPVisspat_bl, EcogSPPlan_bl, ...]\n",
       "Index: []\n",
       "\n",
       "[0 rows x 114 columns]"
      ]
     },
     "execution_count": 37,
     "metadata": {},
     "output_type": "execute_result"
    }
   ],
   "source": [
    "## Convert PTBIRTHDATE to a datetime dtype\n",
    "adnimergebd['PTBIRTHDATE']= pd.to_datetime(adnimergebd['PTBIRTHDATE'],format=\"%Y-%m-%d\")\n",
    "## fill in Age from examdate and PTBIRTHDATE\n",
    "adnimergebd['AGE'] = (adnimergebd['EXAMDATE_MERGE'] - adnimergebd['PTBIRTHDATE']) / np.timedelta64(365, 'D')\n",
    "## Check that all AGE values filled in\n",
    "adnimergebd.loc[pd.isnull(adnimergebd['AGE'])]"
   ]
  },
  {
   "cell_type": "code",
   "execution_count": null,
   "id": "56a93da2-1e1d-40b9-90c7-73ec96b05fb8",
   "metadata": {},
   "outputs": [],
   "source": []
  },
  {
   "cell_type": "code",
   "execution_count": null,
   "id": "8a4ba7b3-e2e6-4f39-9e08-fa18aecf411e",
   "metadata": {},
   "outputs": [],
   "source": []
  },
  {
   "cell_type": "markdown",
   "id": "4fcae25c-769f-4815-9480-976b11961593",
   "metadata": {},
   "source": [
    "## Step 4: CDR: check data"
   ]
  },
  {
   "cell_type": "code",
   "execution_count": 38,
   "id": "48b5c476-4672-4dc2-bdbc-47078d7d3338",
   "metadata": {},
   "outputs": [
    {
     "name": "stdout",
     "output_type": "stream",
     "text": [
      "<class 'pandas.core.frame.DataFrame'>\n",
      "RangeIndex: 13289 entries, 0 to 13288\n",
      "Data columns (total 26 columns):\n",
      " #   Column                Non-Null Count  Dtype  \n",
      "---  ------                --------------  -----  \n",
      " 0   PHASE                 13289 non-null  object \n",
      " 1   PTID                  13289 non-null  object \n",
      " 2   RID                   13289 non-null  int64  \n",
      " 3   VISCODE               13289 non-null  object \n",
      " 4   VISCODE2              13055 non-null  object \n",
      " 5   VISDATE               13281 non-null  object \n",
      " 6   CDDATE                1443 non-null   object \n",
      " 7   CDSOURCE              13139 non-null  float64\n",
      " 8   CDVERSION             8323 non-null   float64\n",
      " 9   SPID                  3200 non-null   float64\n",
      " 10  CDMEMORY              13210 non-null  float64\n",
      " 11  CDORIENT              13210 non-null  float64\n",
      " 12  CDJUDGE               13210 non-null  float64\n",
      " 13  CDCOMMUN              13209 non-null  float64\n",
      " 14  CDHOME                13209 non-null  float64\n",
      " 15  CDCARE                13209 non-null  float64\n",
      " 16  CDGLOBAL              13205 non-null  float64\n",
      " 17  CDRSB                 13076 non-null  float64\n",
      " 18  ID                    13289 non-null  int64  \n",
      " 19  SITEID                13289 non-null  int64  \n",
      " 20  USERDATE              13289 non-null  object \n",
      " 21  USERDATE2             7923 non-null   object \n",
      " 22  DD_CRF_VERSION_LABEL  222 non-null    object \n",
      " 23  LANGUAGE_CODE         222 non-null    object \n",
      " 24  HAS_QC_ERROR          222 non-null    float64\n",
      " 25  update_stamp          13289 non-null  object \n",
      "dtypes: float64(12), int64(3), object(11)\n",
      "memory usage: 2.6+ MB\n"
     ]
    }
   ],
   "source": [
    "cdr=pd.read_csv(\"ADNIspreadsheets/Cognition/CDR_24May2024.csv\")\n",
    "cdr.info()"
   ]
  },
  {
   "cell_type": "code",
   "execution_count": 39,
   "id": "ffad8095-2cb3-4641-abc2-13c8e81eaede",
   "metadata": {},
   "outputs": [
    {
     "data": {
      "text/plain": [
       "13054"
      ]
     },
     "execution_count": 39,
     "metadata": {},
     "output_type": "execute_result"
    }
   ],
   "source": [
    "## drop rows with no VISCODE2 and the one where VISCODE2 == 'uns1'\n",
    "cdr2 = cdr.loc[(pd.notnull(cdr['VISCODE2'])) & (cdr['VISCODE2'] != 'uns1')]\n",
    "len(cdr2)"
   ]
  },
  {
   "cell_type": "code",
   "execution_count": 40,
   "id": "62f6dbc7-f85d-463b-b3ed-9d7d5d341251",
   "metadata": {},
   "outputs": [
    {
     "data": {
      "text/html": [
       "<div>\n",
       "<style scoped>\n",
       "    .dataframe tbody tr th:only-of-type {\n",
       "        vertical-align: middle;\n",
       "    }\n",
       "\n",
       "    .dataframe tbody tr th {\n",
       "        vertical-align: top;\n",
       "    }\n",
       "\n",
       "    .dataframe thead th {\n",
       "        text-align: right;\n",
       "    }\n",
       "</style>\n",
       "<table border=\"1\" class=\"dataframe\">\n",
       "  <thead>\n",
       "    <tr style=\"text-align: right;\">\n",
       "      <th></th>\n",
       "      <th>PHASE</th>\n",
       "      <th>PTID</th>\n",
       "      <th>RID</th>\n",
       "      <th>VISCODE</th>\n",
       "      <th>VISCODE2</th>\n",
       "      <th>VISDATE</th>\n",
       "      <th>CDDATE</th>\n",
       "      <th>CDSOURCE</th>\n",
       "      <th>CDVERSION</th>\n",
       "      <th>SPID</th>\n",
       "      <th>...</th>\n",
       "      <th>CDGLOBAL</th>\n",
       "      <th>CDRSB</th>\n",
       "      <th>ID</th>\n",
       "      <th>SITEID</th>\n",
       "      <th>USERDATE</th>\n",
       "      <th>USERDATE2</th>\n",
       "      <th>DD_CRF_VERSION_LABEL</th>\n",
       "      <th>LANGUAGE_CODE</th>\n",
       "      <th>HAS_QC_ERROR</th>\n",
       "      <th>update_stamp</th>\n",
       "    </tr>\n",
       "  </thead>\n",
       "  <tbody>\n",
       "    <tr>\n",
       "      <th>4259</th>\n",
       "      <td>ADNIGO</td>\n",
       "      <td>031_S_0830</td>\n",
       "      <td>830</td>\n",
       "      <td>m60</td>\n",
       "      <td>m60</td>\n",
       "      <td>NaN</td>\n",
       "      <td>NaN</td>\n",
       "      <td>1.0</td>\n",
       "      <td>NaN</td>\n",
       "      <td>NaN</td>\n",
       "      <td>...</td>\n",
       "      <td>0.5</td>\n",
       "      <td>4.0</td>\n",
       "      <td>1232</td>\n",
       "      <td>21</td>\n",
       "      <td>2014-07-08</td>\n",
       "      <td>NaN</td>\n",
       "      <td>NaN</td>\n",
       "      <td>NaN</td>\n",
       "      <td>NaN</td>\n",
       "      <td>2014-07-08 19:00:56.0</td>\n",
       "    </tr>\n",
       "    <tr>\n",
       "      <th>5107</th>\n",
       "      <td>ADNI2</td>\n",
       "      <td>031_S_0830</td>\n",
       "      <td>830</td>\n",
       "      <td>v06</td>\n",
       "      <td>m60</td>\n",
       "      <td>2011-09-22</td>\n",
       "      <td>NaN</td>\n",
       "      <td>1.0</td>\n",
       "      <td>1.0</td>\n",
       "      <td>NaN</td>\n",
       "      <td>...</td>\n",
       "      <td>0.5</td>\n",
       "      <td>4.0</td>\n",
       "      <td>630</td>\n",
       "      <td>21</td>\n",
       "      <td>2011-09-23</td>\n",
       "      <td>NaN</td>\n",
       "      <td>NaN</td>\n",
       "      <td>NaN</td>\n",
       "      <td>NaN</td>\n",
       "      <td>2012-11-16 12:23:27.0</td>\n",
       "    </tr>\n",
       "  </tbody>\n",
       "</table>\n",
       "<p>2 rows × 26 columns</p>\n",
       "</div>"
      ],
      "text/plain": [
       "       PHASE        PTID  RID VISCODE VISCODE2     VISDATE CDDATE  CDSOURCE  \\\n",
       "4259  ADNIGO  031_S_0830  830     m60      m60         NaN    NaN       1.0   \n",
       "5107   ADNI2  031_S_0830  830     v06      m60  2011-09-22    NaN       1.0   \n",
       "\n",
       "      CDVERSION  SPID  ...  CDGLOBAL  CDRSB    ID  SITEID    USERDATE  \\\n",
       "4259        NaN   NaN  ...       0.5    4.0  1232      21  2014-07-08   \n",
       "5107        1.0   NaN  ...       0.5    4.0   630      21  2011-09-23   \n",
       "\n",
       "      USERDATE2  DD_CRF_VERSION_LABEL  LANGUAGE_CODE  HAS_QC_ERROR  \\\n",
       "4259        NaN                   NaN            NaN           NaN   \n",
       "5107        NaN                   NaN            NaN           NaN   \n",
       "\n",
       "               update_stamp  \n",
       "4259  2014-07-08 19:00:56.0  \n",
       "5107  2012-11-16 12:23:27.0  \n",
       "\n",
       "[2 rows x 26 columns]"
      ]
     },
     "execution_count": 40,
     "metadata": {},
     "output_type": "execute_result"
    }
   ],
   "source": [
    "## Check for duplicates: \n",
    "cdr2[cdr2.duplicated(subset=['RID','VISCODE2'],keep=False)]"
   ]
  },
  {
   "cell_type": "code",
   "execution_count": 41,
   "id": "8171bac3-7220-4286-962d-07414d169468",
   "metadata": {},
   "outputs": [],
   "source": [
    "# drop duplicate where RID == 830 and VISCODE==m60\n",
    "cdr2=cdr2.drop([cdr2.loc[(cdr2['RID'] == 830) & (cdr2['VISCODE'] == 'm60')].index.values[0]])"
   ]
  },
  {
   "cell_type": "code",
   "execution_count": 42,
   "id": "ee0a3c18-bc15-4254-953c-654beb1aa974",
   "metadata": {},
   "outputs": [
    {
     "data": {
      "text/plain": [
       "CDRSB_validate  CDRSB\n",
       "0.0             0.0      4164\n",
       "0.5             0.5      1633\n",
       "1.0             1.0      1368\n",
       "1.5             1.5      1033\n",
       "2.0             2.0       784\n",
       "2.5             2.5       619\n",
       "3.0             3.0       484\n",
       "3.5             3.5       426\n",
       "4.5             4.5       364\n",
       "4.0             4.0       347\n",
       "5.0             5.0       346\n",
       "6.0             6.0       267\n",
       "NaN             NaN       195\n",
       "7.0             7.0       172\n",
       "5.5             5.5       155\n",
       "8.0             8.0       133\n",
       "10.0            10.0      104\n",
       "9.0             9.0        99\n",
       "11.0            11.0       73\n",
       "12.0            12.0       62\n",
       "13.0            13.0       41\n",
       "6.5             6.5        34\n",
       "14.0            14.0       33\n",
       "16.0            16.0       30\n",
       "17.0            17.0       24\n",
       "15.0            15.0       22\n",
       "18.0            18.0       22\n",
       "7.5             7.5        10\n",
       "9.5             9.5         5\n",
       "8.5             8.5         2\n",
       "12.5            12.5        1\n",
       "10.5            10.5        1\n",
       "Name: count, dtype: int64"
      ]
     },
     "execution_count": 42,
     "metadata": {},
     "output_type": "execute_result"
    }
   ],
   "source": [
    "## Double-check ADNI's CDRSB column by recalculating\n",
    "\n",
    "## Replace the '-1' value with NaN\n",
    "cdr2.replace({'CDMEMORY': -1.0,'CDORIENT': -1.0,'CDJUDGE': -1.0,'CDCOMMUN': -1.0,'CDHOME': -1.0,'CDCARE': -1.0}, None,inplace=True)\n",
    "## Add up values for new columns\n",
    "cdr2['CDRSB_validate'] = cdr2['CDMEMORY'] + cdr2['CDORIENT'] + cdr2['CDJUDGE'] + cdr2['CDCOMMUN'] + cdr2['CDHOME'] + cdr2['CDCARE']\n",
    "## Compare ADNI's CDRSB with new calculation\n",
    "cdr2.value_counts(['CDRSB_validate','CDRSB'],dropna=False)"
   ]
  },
  {
   "cell_type": "code",
   "execution_count": 43,
   "id": "45292161-9105-41f8-93b4-cdf3e13ef121",
   "metadata": {},
   "outputs": [],
   "source": [
    "## ADNI's calculated CDRSB is correct in CDR spreadsheet\n",
    "cdrtomerge=cdr2[['RID','VISCODE2','CDRSB_validate']]"
   ]
  },
  {
   "cell_type": "code",
   "execution_count": 44,
   "id": "073341ff-a727-4de0-885c-2990851fe1b4",
   "metadata": {},
   "outputs": [
    {
     "name": "stdout",
     "output_type": "stream",
     "text": [
      "<class 'pandas.core.frame.DataFrame'>\n",
      "RangeIndex: 16417 entries, 0 to 16416\n",
      "Columns: 115 entries, RID to CDRSB_validate\n",
      "dtypes: datetime64[ns](2), float64(89), int64(3), object(21)\n",
      "memory usage: 14.4+ MB\n"
     ]
    }
   ],
   "source": [
    "adnimerge_cdr = adnimergebd.merge(cdrtomerge,on=['RID','VISCODE2'],how='left')\n",
    "adnimerge_cdr.info()"
   ]
  },
  {
   "cell_type": "code",
   "execution_count": 45,
   "id": "92c5085f-bedc-413a-aebb-dff0217461b8",
   "metadata": {},
   "outputs": [
    {
     "data": {
      "text/plain": [
       "CDRSB  CDRSB_validate\n",
       "0.0    0.0               2959\n",
       "0.5    0.5               1177\n",
       "1.0    1.0                929\n",
       "1.5    1.5                687\n",
       "2.0    2.0                535\n",
       "2.5    2.5                432\n",
       "3.0    3.0                371\n",
       "3.5    3.5                312\n",
       "4.5    4.5                274\n",
       "5.0    5.0                273\n",
       "4.0    4.0                252\n",
       "6.0    6.0                215\n",
       "7.0    7.0                136\n",
       "5.5    5.5                122\n",
       "8.0    8.0                108\n",
       "10.0   10.0                99\n",
       "9.0    9.0                 89\n",
       "11.0   11.0                73\n",
       "12.0   12.0                59\n",
       "13.0   13.0                40\n",
       "14.0   14.0                33\n",
       "16.0   16.0                30\n",
       "6.5    6.5                 26\n",
       "17.0   17.0                24\n",
       "15.0   15.0                22\n",
       "18.0   18.0                22\n",
       "7.5    7.5                  8\n",
       "9.5    9.5                  5\n",
       "8.5    8.5                  2\n",
       "12.5   12.5                 1\n",
       "10.5   10.5                 1\n",
       "Name: count, dtype: int64"
      ]
     },
     "execution_count": 45,
     "metadata": {},
     "output_type": "execute_result"
    }
   ],
   "source": [
    "## Check that new values are the same as values in ADNIMERGE\n",
    "adnimerge_cdr.value_counts(['CDRSB','CDRSB_validate'])"
   ]
  },
  {
   "cell_type": "code",
   "execution_count": 46,
   "id": "419bb307-9ff5-4ef0-978b-2e00f2a5bac0",
   "metadata": {},
   "outputs": [
    {
     "name": "stdout",
     "output_type": "stream",
     "text": [
      "Gained 2 data points.\n",
      "Still have 4668 null values.\n"
     ]
    }
   ],
   "source": [
    "print(f\"Gained {len(adnimerge_cdr.loc[(pd.isnull(adnimerge_cdr['CDRSB'])) & (pd.notnull(adnimerge_cdr['CDRSB_validate']))])} data points.\")\n",
    "print(f\"Still have {len(adnimerge_cdr.loc[(pd.isnull(adnimerge_cdr['CDRSB'])) & (pd.isnull(adnimerge_cdr['CDRSB_validate']))])} null values.\")"
   ]
  },
  {
   "cell_type": "code",
   "execution_count": 47,
   "id": "412eff96-aa9b-4bdb-b759-dd1ed0f43c98",
   "metadata": {},
   "outputs": [
    {
     "name": "stdout",
     "output_type": "stream",
     "text": [
      "Extrapolated 2 data points to original column\n",
      "\n",
      "All values the same between original column and validate column, dropping validate column.\n",
      "\n",
      "<class 'pandas.core.frame.DataFrame'>\n",
      "RangeIndex: 16417 entries, 0 to 16416\n",
      "Columns: 114 entries, RID to PTBIRTHDATE\n",
      "dtypes: datetime64[ns](2), float64(89), int64(3), object(20)\n",
      "memory usage: 14.3+ MB\n",
      "None\n"
     ]
    }
   ],
   "source": [
    "## Add any new CDRSB_validate values to CDRSB column\n",
    "new=0\n",
    "for index,row in adnimerge_cdr.iterrows():\n",
    "    if pd.isnull(row['CDRSB']) and pd.notnull(row['CDRSB_validate']):\n",
    "        adnimerge_cdr.at[index,'CDRSB'] = row['CDRSB_validate']\n",
    "        new +=1\n",
    "        \n",
    "print(f\"Extrapolated {new} data points to original column\")\n",
    "print()\n",
    "\n",
    "## Check for any data points that are different both columns\n",
    "nomatch=len(adnimerge_cdr.loc[(pd.notnull(adnimerge_cdr['CDRSB'])) & (pd.notnull(adnimerge_cdr[\"CDRSB_validate\"]))\n",
    "& (adnimerge_cdr['CDRSB'] != adnimerge_cdr['CDRSB_validate'])])  ## if both are not null and value does not match\n",
    "\n",
    "\n",
    "## If 0 columns different, drop validate column\n",
    "if nomatch == 0:\n",
    "    print('All values the same between original column and validate column, dropping validate column.')\n",
    "    adnimerge_cdr.drop(columns=['CDRSB_validate'],inplace=True)\n",
    "else:\n",
    "    print('Some values different between original column and validate column, keeping validate column.')\n",
    "\n",
    "print()\n",
    "print(adnimerge_cdr.info())"
   ]
  },
  {
   "cell_type": "code",
   "execution_count": null,
   "id": "53085be3-0a90-4b28-ad51-ceaf729eda31",
   "metadata": {},
   "outputs": [],
   "source": []
  },
  {
   "cell_type": "code",
   "execution_count": null,
   "id": "dfdcbb69-980e-455f-86c2-94a3ada84cd4",
   "metadata": {},
   "outputs": [],
   "source": []
  },
  {
   "cell_type": "markdown",
   "id": "7d69ffde-dc50-4f97-bd31-b669fb763441",
   "metadata": {
    "jp-MarkdownHeadingCollapsed": true
   },
   "source": [
    "## Step 5: Amyloid Status: add data"
   ]
  },
  {
   "cell_type": "code",
   "execution_count": 48,
   "id": "d11938db-fa24-45e5-a4bd-15328e5ae38a",
   "metadata": {},
   "outputs": [
    {
     "name": "stdout",
     "output_type": "stream",
     "text": [
      "<class 'pandas.core.frame.DataFrame'>\n",
      "RangeIndex: 3805 entries, 0 to 3804\n",
      "Columns: 343 entries, LONIUID to update_stamp\n",
      "dtypes: float64(331), int64(3), object(9)\n",
      "memory usage: 10.0+ MB\n"
     ]
    }
   ],
   "source": [
    "amy=pd.read_csv(\"ADNIspreadsheets/PET/UCBERKELEY_AMY_6MM_29May2024.csv\")\n",
    "amy.info()"
   ]
  },
  {
   "cell_type": "code",
   "execution_count": 49,
   "id": "3cd63bf7-c446-449d-9047-c045dd792b90",
   "metadata": {},
   "outputs": [
    {
     "name": "stdout",
     "output_type": "stream",
     "text": [
      "3805\n"
     ]
    }
   ],
   "source": [
    "print(len(amy.loc[pd.notnull(amy['VISCODE'])]))"
   ]
  },
  {
   "cell_type": "markdown",
   "id": "546e0047-9e6d-4af3-944b-cd55b2c57f05",
   "metadata": {},
   "source": [
    "#### Fill in VISCODE2 using registry"
   ]
  },
  {
   "cell_type": "code",
   "execution_count": 50,
   "id": "ba410fac-7e49-4469-b1bb-298314c92c4c",
   "metadata": {},
   "outputs": [],
   "source": [
    "reg = pd.read_csv(\"ADNIspreadsheets/PET/REGISTRY_28May2024.csv\")\n",
    "regsm=reg[['PTID','VISCODE','VISCODE2']]"
   ]
  },
  {
   "cell_type": "code",
   "execution_count": 51,
   "id": "2e114076-2ccb-4fe4-8673-0b1430d70396",
   "metadata": {},
   "outputs": [
    {
     "name": "stdout",
     "output_type": "stream",
     "text": [
      "1 null VISCODE2 after merge\n"
     ]
    }
   ],
   "source": [
    "amyvis = amy.merge(regsm,on=['PTID','VISCODE'],how='left')\n",
    "print(f\"{len(amyvis.loc[pd.isnull(amyvis['VISCODE2'])])} null VISCODE2 after merge\")"
   ]
  },
  {
   "cell_type": "code",
   "execution_count": 52,
   "id": "47ec6095-07f7-481b-8266-d0a3a3b44c85",
   "metadata": {},
   "outputs": [
    {
     "data": {
      "text/plain": [
       "3927"
      ]
     },
     "execution_count": 52,
     "metadata": {},
     "output_type": "execute_result"
    }
   ],
   "source": [
    "## drop rows with no VISCODE2\n",
    "amyvis2 = amyvis.loc[(pd.notnull(amyvis['VISCODE2'])) & (amyvis['VISCODE2'] != 'uns1')]\n",
    "len(amyvis2)"
   ]
  },
  {
   "cell_type": "code",
   "execution_count": 53,
   "id": "24474780-683a-4f53-b79e-4f68a5fd9dcc",
   "metadata": {},
   "outputs": [
    {
     "name": "stdout",
     "output_type": "stream",
     "text": [
      "There are 246 duplicates\n",
      "Now have 3804 data points.\n"
     ]
    }
   ],
   "source": [
    "## Check for duplicates: \n",
    "print(f\"There are {len(amyvis2[amyvis2.duplicated(subset=['RID','VISCODE2'],keep=False)])} duplicates\")\n",
    "amyvis3=amyvis2.drop_duplicates(subset=['RID','VISCODE2'],keep='first')\n",
    "print(f\"Now have {len(amyvis3)} data points.\")"
   ]
  },
  {
   "cell_type": "markdown",
   "id": "6625f099-3e09-4008-bc78-271851752b3c",
   "metadata": {},
   "source": [
    "#### merge amyloid stats, suvr, centiloids"
   ]
  },
  {
   "cell_type": "code",
   "execution_count": 54,
   "id": "f3a34095-6cd1-4467-a995-5666481acf34",
   "metadata": {},
   "outputs": [],
   "source": [
    "## double-check which columns to merge\n",
    "amysm=amyvis3[['RID','VISCODE2','AMYLOID_STATUS','TRACER','SUMMARY_SUVR','CENTILOIDS']]"
   ]
  },
  {
   "cell_type": "code",
   "execution_count": 55,
   "id": "9b84773e-65dd-4934-95a7-11c06a1b6efd",
   "metadata": {},
   "outputs": [
    {
     "name": "stdout",
     "output_type": "stream",
     "text": [
      "Filled in 3650 values\n"
     ]
    }
   ],
   "source": [
    "merge_amystat=adnimerge_cdr.merge(amysm,on=['RID','VISCODE2'],how='left')\n",
    "print(f\"Filled in {len(merge_amystat.loc[pd.notnull(merge_amystat['AMYLOID_STATUS'])])} values\")"
   ]
  },
  {
   "cell_type": "code",
   "execution_count": null,
   "id": "3b1df149-ebef-42c7-a42b-5543b4b6336a",
   "metadata": {},
   "outputs": [],
   "source": []
  },
  {
   "cell_type": "code",
   "execution_count": null,
   "id": "ce7613b8-db98-4073-8993-af9ee084a1cf",
   "metadata": {},
   "outputs": [],
   "source": []
  },
  {
   "cell_type": "markdown",
   "id": "c9323a94-16f4-4fc0-942a-7866a758011b",
   "metadata": {
    "jp-MarkdownHeadingCollapsed": true
   },
   "source": [
    "## Step 6: APOE: check data"
   ]
  },
  {
   "cell_type": "code",
   "execution_count": 56,
   "id": "f3048daf-fb76-43fe-bd4a-e370092b23fa",
   "metadata": {},
   "outputs": [
    {
     "name": "stdout",
     "output_type": "stream",
     "text": [
      "<class 'pandas.core.frame.DataFrame'>\n",
      "RangeIndex: 2737 entries, 0 to 2736\n",
      "Data columns (total 17 columns):\n",
      " #   Column        Non-Null Count  Dtype  \n",
      "---  ------        --------------  -----  \n",
      " 0   Phase         2737 non-null   object \n",
      " 1   ID            1159 non-null   float64\n",
      " 2   PTID          2737 non-null   object \n",
      " 3   RID           2737 non-null   int64  \n",
      " 4   SITEID        1159 non-null   float64\n",
      " 5   VISCODE       1159 non-null   object \n",
      " 6   USERDATE      1159 non-null   object \n",
      " 7   USERDATE2     0 non-null      float64\n",
      " 8   APTESTDT      1159 non-null   object \n",
      " 9   APGEN1        2737 non-null   int64  \n",
      " 10  APGEN2        2737 non-null   int64  \n",
      " 11  APVOLUME      1159 non-null   float64\n",
      " 12  APRECEIVE     1159 non-null   float64\n",
      " 13  APAMBTEMP     1159 non-null   float64\n",
      " 14  APRESAMP      1159 non-null   float64\n",
      " 15  APUSABLE      1159 non-null   float64\n",
      " 16  update_stamp  2737 non-null   object \n",
      "dtypes: float64(8), int64(3), object(6)\n",
      "memory usage: 363.6+ KB\n"
     ]
    }
   ],
   "source": [
    "apoe=pd.read_csv(\"ADNIspreadsheets/Biospecimen/APOERES_30May2024.csv\")\n",
    "apoe.info()"
   ]
  },
  {
   "cell_type": "code",
   "execution_count": 57,
   "id": "5485872a-6693-4d92-9631-bb2db52df6b2",
   "metadata": {},
   "outputs": [
    {
     "name": "stdout",
     "output_type": "stream",
     "text": [
      "APGEN1\n",
      "3    2224\n",
      "2     267\n",
      "4     246\n",
      "Name: count, dtype: int64\n",
      "APGEN2\n",
      "3    1501\n",
      "4    1229\n",
      "2       7\n",
      "Name: count, dtype: int64\n"
     ]
    }
   ],
   "source": [
    "## APGEN1 and APGEN2 all have values\n",
    "print(apoe['APGEN1'].value_counts(dropna=False))\n",
    "print(apoe['APGEN2'].value_counts(dropna=False))"
   ]
  },
  {
   "cell_type": "code",
   "execution_count": 58,
   "id": "579efc0d-f707-404b-927c-5072da9e5329",
   "metadata": {},
   "outputs": [
    {
     "name": "stdout",
     "output_type": "stream",
     "text": [
      "APOE_genotype\n",
      "3;3    1300\n",
      "3;4     924\n",
      "4;4     246\n",
      "2;3     201\n",
      "2;4      59\n",
      "2;2       7\n",
      "Name: count, dtype: int64\n",
      "APOE4_validate\n",
      "0    1508\n",
      "1     983\n",
      "2     246\n",
      "Name: count, dtype: int64\n"
     ]
    }
   ],
   "source": [
    "# compute genotype and APOE4 status\n",
    "\n",
    "apoe['APOE_genotype'] = None\n",
    "apoe['APOE4_validate'] = None\n",
    "for index,row in apoe.iterrows():\n",
    "    val=f\"{row['APGEN1']};{row['APGEN2']}\"\n",
    "    # print(val)\n",
    "    if val==\"3;2\":\n",
    "        val=\"2;3\"\n",
    "    elif val == \"4;2\":\n",
    "        val=\"2;4\"\n",
    "    elif val == \"4;3\":\n",
    "        val=\"3;4\"\n",
    "    apoe.at[index,'APOE_genotype'] = val\n",
    "\n",
    "    if \"4\" in val:\n",
    "        if val == \"4;4\":\n",
    "            num=2\n",
    "        else:\n",
    "            num=1\n",
    "    else:\n",
    "        num=0\n",
    "\n",
    "    apoe.at[index,'APOE4_validate'] = num\n",
    "\n",
    "print(apoe['APOE_genotype'].value_counts())\n",
    "print(apoe['APOE4_validate'].value_counts())"
   ]
  },
  {
   "cell_type": "code",
   "execution_count": 59,
   "id": "36b7608b-dba3-41ce-91bd-f2b994bc8811",
   "metadata": {},
   "outputs": [
    {
     "name": "stdout",
     "output_type": "stream",
     "text": [
      "0\n"
     ]
    }
   ],
   "source": [
    "## check for duplicates\n",
    "print(len(apoe[apoe.duplicated(subset=['RID'],keep=False)]))"
   ]
  },
  {
   "cell_type": "code",
   "execution_count": 60,
   "id": "0a3ad1a3-440c-42f8-9741-3790f43c2186",
   "metadata": {},
   "outputs": [],
   "source": [
    "## select only columns to merge\n",
    "apoesm=apoe[['RID','APOE_genotype','APOE4_validate']]"
   ]
  },
  {
   "cell_type": "code",
   "execution_count": 61,
   "id": "6536607b-2e1f-4521-911e-c5a904c04f6d",
   "metadata": {},
   "outputs": [
    {
     "name": "stdout",
     "output_type": "stream",
     "text": [
      "Gained 317 data points.\n",
      "Still have 48 null values.\n"
     ]
    }
   ],
   "source": [
    "## merge\n",
    "adnimerge_apoe=merge_amystat.merge(apoesm,on=['RID'],how='left')\n",
    "len(adnimerge_apoe.loc[pd.isnull(adnimerge_apoe['APOE_genotype'])])\n",
    "\n",
    "print(f\"Gained {len(adnimerge_apoe.loc[(pd.isnull(adnimerge_apoe['APOE4'])) & (pd.notnull(adnimerge_apoe['APOE4_validate']))])} data points.\")\n",
    "print(f\"Still have {len(adnimerge_apoe.loc[(pd.isnull(adnimerge_apoe['APOE4'])) & (pd.isnull(adnimerge_apoe['APOE4_validate']))])} null values.\")"
   ]
  },
  {
   "cell_type": "code",
   "execution_count": 62,
   "id": "f5df4802-229f-498c-a60c-bf0a03f20104",
   "metadata": {},
   "outputs": [
    {
     "name": "stdout",
     "output_type": "stream",
     "text": [
      "Extrapolated 317 data points to original column\n",
      "\n",
      "Some values different between original column and validate column, keeping validate column.\n",
      "\n",
      "<class 'pandas.core.frame.DataFrame'>\n",
      "RangeIndex: 16417 entries, 0 to 16416\n",
      "Columns: 120 entries, RID to APOE4_validate\n",
      "dtypes: datetime64[ns](2), float64(92), int64(3), object(23)\n",
      "memory usage: 15.0+ MB\n",
      "None\n"
     ]
    }
   ],
   "source": [
    "## Add any new _validate values to original column\n",
    "new=0\n",
    "for index,row in adnimerge_apoe.iterrows():\n",
    "    if pd.isnull(row['APOE4']) and pd.notnull(row['APOE4_validate']):\n",
    "        adnimerge_apoe.at[index,'APOE4'] = row['APOE4_validate']\n",
    "        new +=1\n",
    "        \n",
    "print(f\"Extrapolated {new} data points to original column\")\n",
    "print()\n",
    "\n",
    "## Check for any data points that are different both columns\n",
    "nomatch=len(adnimerge_apoe.loc[(pd.notnull(adnimerge_apoe['APOE4'])) & (pd.notnull(adnimerge_apoe[\"APOE4_validate\"]))\n",
    "& (adnimerge_apoe['APOE4'] != adnimerge_apoe['APOE4_validate'])])  ## if both are not null and value does not match\n",
    "\n",
    "\n",
    "## If 0 columns different, drop validate column\n",
    "if nomatch == 0:\n",
    "    print('All values the same between original column and validate column, dropping validate column.')\n",
    "    adnimerge_apoe.drop(columns=['APOE4_validate'],inplace=True)\n",
    "else:\n",
    "    print('Some values different between original column and validate column, keeping validate column.')\n",
    "\n",
    "print()\n",
    "print(adnimerge_apoe.info())"
   ]
  },
  {
   "cell_type": "code",
   "execution_count": null,
   "id": "9116feb7-f3fc-4347-ab3e-b508b41299b8",
   "metadata": {},
   "outputs": [],
   "source": []
  },
  {
   "cell_type": "code",
   "execution_count": 63,
   "id": "ae550bfb-c398-4b0b-8c43-5919d4828e99",
   "metadata": {},
   "outputs": [
    {
     "data": {
      "text/html": [
       "<div>\n",
       "<style scoped>\n",
       "    .dataframe tbody tr th:only-of-type {\n",
       "        vertical-align: middle;\n",
       "    }\n",
       "\n",
       "    .dataframe tbody tr th {\n",
       "        vertical-align: top;\n",
       "    }\n",
       "\n",
       "    .dataframe thead th {\n",
       "        text-align: right;\n",
       "    }\n",
       "</style>\n",
       "<table border=\"1\" class=\"dataframe\">\n",
       "  <thead>\n",
       "    <tr style=\"text-align: right;\">\n",
       "      <th></th>\n",
       "      <th>RID</th>\n",
       "      <th>VISCODE2</th>\n",
       "      <th>EXAMDATE_MERGE</th>\n",
       "      <th>APOE4</th>\n",
       "      <th>APOE4_validate</th>\n",
       "    </tr>\n",
       "  </thead>\n",
       "  <tbody>\n",
       "    <tr>\n",
       "      <th>1636</th>\n",
       "      <td>777</td>\n",
       "      <td>bl</td>\n",
       "      <td>2006-09-21</td>\n",
       "      <td>0.0</td>\n",
       "      <td>1</td>\n",
       "    </tr>\n",
       "    <tr>\n",
       "      <th>14522</th>\n",
       "      <td>6066</td>\n",
       "      <td>bl</td>\n",
       "      <td>2017-09-07</td>\n",
       "      <td>0.0</td>\n",
       "      <td>1</td>\n",
       "    </tr>\n",
       "    <tr>\n",
       "      <th>14523</th>\n",
       "      <td>6066</td>\n",
       "      <td>m12</td>\n",
       "      <td>2018-08-28</td>\n",
       "      <td>0.0</td>\n",
       "      <td>1</td>\n",
       "    </tr>\n",
       "    <tr>\n",
       "      <th>14524</th>\n",
       "      <td>6066</td>\n",
       "      <td>m24</td>\n",
       "      <td>2019-11-06</td>\n",
       "      <td>0.0</td>\n",
       "      <td>1</td>\n",
       "    </tr>\n",
       "    <tr>\n",
       "      <th>15097</th>\n",
       "      <td>6436</td>\n",
       "      <td>bl</td>\n",
       "      <td>2018-07-25</td>\n",
       "      <td>1.0</td>\n",
       "      <td>0</td>\n",
       "    </tr>\n",
       "    <tr>\n",
       "      <th>15098</th>\n",
       "      <td>6436</td>\n",
       "      <td>m12</td>\n",
       "      <td>2019-08-08</td>\n",
       "      <td>1.0</td>\n",
       "      <td>0</td>\n",
       "    </tr>\n",
       "    <tr>\n",
       "      <th>15099</th>\n",
       "      <td>6436</td>\n",
       "      <td>m24</td>\n",
       "      <td>2020-10-07</td>\n",
       "      <td>1.0</td>\n",
       "      <td>0</td>\n",
       "    </tr>\n",
       "    <tr>\n",
       "      <th>15716</th>\n",
       "      <td>6436</td>\n",
       "      <td>m42</td>\n",
       "      <td>2021-12-06</td>\n",
       "      <td>1.0</td>\n",
       "      <td>0</td>\n",
       "    </tr>\n",
       "    <tr>\n",
       "      <th>15296</th>\n",
       "      <td>6564</td>\n",
       "      <td>bl</td>\n",
       "      <td>2018-10-02</td>\n",
       "      <td>2.0</td>\n",
       "      <td>1</td>\n",
       "    </tr>\n",
       "    <tr>\n",
       "      <th>16306</th>\n",
       "      <td>6564</td>\n",
       "      <td>m48</td>\n",
       "      <td>2022-07-19</td>\n",
       "      <td>2.0</td>\n",
       "      <td>1</td>\n",
       "    </tr>\n",
       "    <tr>\n",
       "      <th>16311</th>\n",
       "      <td>6564</td>\n",
       "      <td>m12</td>\n",
       "      <td>2019-11-04</td>\n",
       "      <td>2.0</td>\n",
       "      <td>1</td>\n",
       "    </tr>\n",
       "  </tbody>\n",
       "</table>\n",
       "</div>"
      ],
      "text/plain": [
       "        RID VISCODE2 EXAMDATE_MERGE  APOE4 APOE4_validate\n",
       "1636    777       bl     2006-09-21    0.0              1\n",
       "14522  6066       bl     2017-09-07    0.0              1\n",
       "14523  6066      m12     2018-08-28    0.0              1\n",
       "14524  6066      m24     2019-11-06    0.0              1\n",
       "15097  6436       bl     2018-07-25    1.0              0\n",
       "15098  6436      m12     2019-08-08    1.0              0\n",
       "15099  6436      m24     2020-10-07    1.0              0\n",
       "15716  6436      m42     2021-12-06    1.0              0\n",
       "15296  6564       bl     2018-10-02    2.0              1\n",
       "16306  6564      m48     2022-07-19    2.0              1\n",
       "16311  6564      m12     2019-11-04    2.0              1"
      ]
     },
     "execution_count": 63,
     "metadata": {},
     "output_type": "execute_result"
    }
   ],
   "source": [
    "## Examine values that don't match up\n",
    "dontmatch=adnimerge_apoe.loc[(pd.notnull(adnimerge_apoe['APOE4'])) & (adnimerge_apoe['APOE4'] != adnimerge_apoe['APOE4_validate'])]\n",
    "dontmatchsm=dontmatch[['RID','VISCODE2','EXAMDATE_MERGE','APOE4','APOE4_validate']]\n",
    "dontmatchsm.sort_values('RID')"
   ]
  },
  {
   "cell_type": "code",
   "execution_count": 64,
   "id": "05f52288-ba6c-4aee-a0d7-71c16c28132f",
   "metadata": {},
   "outputs": [
    {
     "data": {
      "text/plain": [
       "RID\n",
       "6436    4\n",
       "6066    3\n",
       "6564    3\n",
       "777     1\n",
       "Name: count, dtype: int64"
      ]
     },
     "execution_count": 64,
     "metadata": {},
     "output_type": "execute_result"
    }
   ],
   "source": [
    "dontmatch['RID'].value_counts()"
   ]
  },
  {
   "cell_type": "code",
   "execution_count": 65,
   "id": "a6453dff-9feb-41b9-a6d9-600e4644402b",
   "metadata": {},
   "outputs": [
    {
     "name": "stdout",
     "output_type": "stream",
     "text": [
      "Subject 777 [3],[4]\n",
      "Subject 6066 [2],[4]\n",
      "Subject 6436 [3],[3]\n",
      "Subject 6564 [3],[4]\n"
     ]
    }
   ],
   "source": [
    "for sub in dontmatch['RID'].unique():\n",
    "    inorig=apoe.loc[apoe['RID'] == sub]\n",
    "    print(f\"Subject {sub} {inorig['APGEN1'].values},{inorig['APGEN2'].values}\")"
   ]
  },
  {
   "cell_type": "code",
   "execution_count": null,
   "id": "4bdaac70-9ef4-4ce1-9c41-793c8f7c33b2",
   "metadata": {},
   "outputs": [],
   "source": []
  },
  {
   "cell_type": "markdown",
   "id": "d06bd300-bd45-4453-afde-6eace6009d73",
   "metadata": {
    "jp-MarkdownHeadingCollapsed": true
   },
   "source": [
    "## Step 7: Plasma: add data"
   ]
  },
  {
   "cell_type": "code",
   "execution_count": 66,
   "id": "80ef035c-7e89-4acb-93a9-8ce10da81502",
   "metadata": {},
   "outputs": [
    {
     "name": "stdout",
     "output_type": "stream",
     "text": [
      "<class 'pandas.core.frame.DataFrame'>\n",
      "RangeIndex: 3762 entries, 0 to 3761\n",
      "Data columns (total 11 columns):\n",
      " #   Column        Non-Null Count  Dtype  \n",
      "---  ------        --------------  -----  \n",
      " 0   RID           3762 non-null   int64  \n",
      " 1   VISCODE       3762 non-null   object \n",
      " 2   VISCODE2      3762 non-null   object \n",
      " 3   USERDATE      3762 non-null   object \n",
      " 4   EXAMDATE      3762 non-null   object \n",
      " 5   RECNO         3762 non-null   int64  \n",
      " 6   DRAW_DATE     3762 non-null   object \n",
      " 7   DRAW_TIME     3744 non-null   object \n",
      " 8   PLASMA_NFL    3761 non-null   float64\n",
      " 9   COMMENT       1 non-null      object \n",
      " 10  update_stamp  3762 non-null   object \n",
      "dtypes: float64(1), int64(2), object(8)\n",
      "memory usage: 323.4+ KB\n"
     ]
    }
   ],
   "source": [
    "## new data, no existing Plasma info in adnimerge\n",
    "## data only exists for ADNI 1 & 2\n",
    "plasma=pd.read_csv(\"ADNIspreadsheets/Biospecimen/ADNI_BLENNOWPLASMANFLLONG_10_03_18_30May2024.csv\")\n",
    "plasma.info()"
   ]
  },
  {
   "cell_type": "code",
   "execution_count": 67,
   "id": "5d06ecc6-703b-443a-9a9f-305292da08cd",
   "metadata": {},
   "outputs": [],
   "source": [
    "# manually change VISCODE2 of some subjects\n",
    "plasma.loc[(plasma['VISCODE'] == 'nv') & (plasma['RID'] == 548), 'VISCODE2'] = 'm48'\n",
    "plasma.loc[(plasma['VISCODE'] == 'nv') & (plasma['RID'] == 1256), 'VISCODE2'] = 'm84'\n",
    "plasma.loc[(plasma['VISCODE'] == 'nv') & (plasma['RID'] == 4455), 'VISCODE2'] = 'm48'\n",
    "plasma.loc[(plasma['VISCODE'] == 'nv') & (plasma['RID'] == 4499), 'VISCODE2'] = 'm48'\n",
    "plasma.loc[(plasma['VISCODE'] == 'nv') & (plasma['RID'] == 4660), 'VISCODE2'] = 'm12'\n",
    "plasma.loc[(plasma['VISCODE'] == 'nv') & (plasma['RID'] == 4993), 'VISCODE2'] = 'bl'\n",
    "plasma.loc[(plasma['VISCODE'] == 'sc') & (plasma['RID'] == 113), 'VISCODE2'] = 'm60'\n",
    "plasma.loc[(plasma['VISCODE'] == 'v02') & (plasma['RID'] == 4020), 'VISCODE2'] = 'bl'"
   ]
  },
  {
   "cell_type": "code",
   "execution_count": 68,
   "id": "741fcf32-2b14-4c74-8b9d-6a08624aa4fe",
   "metadata": {
    "scrolled": true
   },
   "outputs": [
    {
     "name": "stdout",
     "output_type": "stream",
     "text": [
      "<class 'pandas.core.frame.DataFrame'>\n",
      "Index: 3759 entries, 0 to 3761\n",
      "Data columns (total 11 columns):\n",
      " #   Column        Non-Null Count  Dtype  \n",
      "---  ------        --------------  -----  \n",
      " 0   RID           3759 non-null   int64  \n",
      " 1   VISCODE       3759 non-null   object \n",
      " 2   VISCODE2      3759 non-null   object \n",
      " 3   USERDATE      3759 non-null   object \n",
      " 4   EXAMDATE      3759 non-null   object \n",
      " 5   RECNO         3759 non-null   int64  \n",
      " 6   DRAW_DATE     3759 non-null   object \n",
      " 7   DRAW_TIME     3741 non-null   object \n",
      " 8   PLASMA_NFL    3759 non-null   float64\n",
      " 9   COMMENT       0 non-null      object \n",
      " 10  update_stamp  3759 non-null   object \n",
      "dtypes: float64(1), int64(2), object(8)\n",
      "memory usage: 352.4+ KB\n"
     ]
    }
   ],
   "source": [
    "## keep only rows with viscode2 and plasma_nfl data, where viscode2 != 'nv'\n",
    "plasma2=plasma.loc[(pd.notnull(plasma['VISCODE2'])) & (pd.notnull(plasma['PLASMA_NFL'])) & (plasma['VISCODE2'] != 'nv')]\n",
    "plasma2.info()"
   ]
  },
  {
   "cell_type": "code",
   "execution_count": 69,
   "id": "7a05fcbd-0406-4fa5-b92c-197aec0e1bee",
   "metadata": {},
   "outputs": [
    {
     "name": "stdout",
     "output_type": "stream",
     "text": [
      "there are 108 duplicates\n"
     ]
    }
   ],
   "source": [
    "print(f\"there are {len(plasma2[plasma2.duplicated(subset=['RID','VISCODE2'],keep=False)])} duplicates\")"
   ]
  },
  {
   "cell_type": "code",
   "execution_count": 70,
   "id": "02cb344a-b8e7-4ac9-9b7e-4e433c19cb6f",
   "metadata": {},
   "outputs": [],
   "source": [
    "plasma2.drop_duplicates(subset=['RID','VISCODE2'],keep='first',inplace=True)"
   ]
  },
  {
   "cell_type": "code",
   "execution_count": 71,
   "id": "d480ed96-f9de-447a-8e62-f3c123c0f77e",
   "metadata": {},
   "outputs": [],
   "source": [
    "plasmasm=plasma2[['RID','VISCODE2', 'PLASMA_NFL','DRAW_DATE']]\n",
    "plasmasm.rename(columns={'DRAW_DATE':'PLASMANFL_DRAWDATE'},inplace=True)"
   ]
  },
  {
   "cell_type": "code",
   "execution_count": 72,
   "id": "443259fb-9e32-4bf5-87b1-a02a6d534597",
   "metadata": {},
   "outputs": [
    {
     "name": "stdout",
     "output_type": "stream",
     "text": [
      "Filled in 3701 values\n"
     ]
    }
   ],
   "source": [
    "merge_plasma = adnimerge_apoe.merge(plasmasm,on=['RID','VISCODE2'],how='left')\n",
    "print(f\"Filled in {len(merge_plasma.loc[pd.notnull(merge_plasma['PLASMA_NFL'])])} values\")"
   ]
  },
  {
   "cell_type": "code",
   "execution_count": null,
   "id": "c84170c6-4027-45c9-b24a-b1e791411eec",
   "metadata": {},
   "outputs": [],
   "source": []
  },
  {
   "cell_type": "code",
   "execution_count": null,
   "id": "53589ce5-bfff-4d10-b496-16d9e52e4749",
   "metadata": {},
   "outputs": [],
   "source": []
  },
  {
   "cell_type": "code",
   "execution_count": null,
   "id": "969fdacd-9856-4593-8853-19cf4eb3b56e",
   "metadata": {},
   "outputs": [],
   "source": []
  },
  {
   "cell_type": "markdown",
   "id": "3161467f-995f-4710-b560-795670dfe53f",
   "metadata": {
    "jp-MarkdownHeadingCollapsed": true
   },
   "source": [
    "## Step 8: PTau: add data"
   ]
  },
  {
   "cell_type": "code",
   "execution_count": 73,
   "id": "a436b630-fd80-47c2-a5f2-a1c157d2ac79",
   "metadata": {},
   "outputs": [
    {
     "name": "stdout",
     "output_type": "stream",
     "text": [
      "<class 'pandas.core.frame.DataFrame'>\n",
      "RangeIndex: 3758 entries, 0 to 3757\n",
      "Data columns (total 8 columns):\n",
      " #   Column         Non-Null Count  Dtype  \n",
      "---  ------         --------------  -----  \n",
      " 0   RID            3758 non-null   int64  \n",
      " 1   VISCODE        3758 non-null   object \n",
      " 2   VISCODE2       3758 non-null   object \n",
      " 3   EXAMDATE       3758 non-null   object \n",
      " 4   VID            3758 non-null   int64  \n",
      " 5   PLASMAPTAU181  3758 non-null   float64\n",
      " 6   COMMENT        6 non-null      object \n",
      " 7   update_stamp   3758 non-null   object \n",
      "dtypes: float64(1), int64(2), object(5)\n",
      "memory usage: 235.0+ KB\n"
     ]
    }
   ],
   "source": [
    "### new data\n",
    "ptau=pd.read_csv(\"ADNIspreadsheets/Biospecimen/UGOTPTAU181_06_18_20_30May2024.csv\")\n",
    "ptau.info()"
   ]
  },
  {
   "cell_type": "code",
   "execution_count": 74,
   "id": "d0b889da-371e-4482-b6d2-48f0c78968be",
   "metadata": {},
   "outputs": [],
   "source": [
    "# manually change VISCODE2 of some subjects\n",
    "ptau.loc[(ptau['VISCODE'] == 'nv') & (ptau['RID'] == 548), 'VISCODE2'] = 'm48'\n",
    "ptau.loc[(ptau['VISCODE'] == 'nv') & (ptau['RID'] == 1326), 'VISCODE2'] = 'm48'\n",
    "ptau.loc[(ptau['VISCODE'] == 'nv') & (ptau['RID'] == 4499), 'VISCODE2'] = 'm48'\n",
    "ptau.loc[(ptau['VISCODE'] == 'nv') & (ptau['RID'] == 4660), 'VISCODE2'] = 'm12'\n",
    "ptau.loc[(ptau['VISCODE'] == 'sc') & (ptau['RID'] == 113), 'VISCODE2'] = 'm60'\n"
   ]
  },
  {
   "cell_type": "code",
   "execution_count": 75,
   "id": "c5c70cc5-aa57-4895-8b23-3054a3f96891",
   "metadata": {},
   "outputs": [
    {
     "name": "stdout",
     "output_type": "stream",
     "text": [
      "<class 'pandas.core.frame.DataFrame'>\n",
      "Index: 3756 entries, 0 to 3757\n",
      "Data columns (total 8 columns):\n",
      " #   Column         Non-Null Count  Dtype  \n",
      "---  ------         --------------  -----  \n",
      " 0   RID            3756 non-null   int64  \n",
      " 1   VISCODE        3756 non-null   object \n",
      " 2   VISCODE2       3756 non-null   object \n",
      " 3   EXAMDATE       3756 non-null   object \n",
      " 4   VID            3756 non-null   int64  \n",
      " 5   PLASMAPTAU181  3756 non-null   float64\n",
      " 6   COMMENT        6 non-null      object \n",
      " 7   update_stamp   3756 non-null   object \n",
      "dtypes: float64(1), int64(2), object(5)\n",
      "memory usage: 264.1+ KB\n"
     ]
    }
   ],
   "source": [
    "## keep only rows with viscode2 and ptau data, where viscode2 != 'nv'\n",
    "ptau2=ptau.loc[(pd.notnull(ptau['VISCODE2'])) & (pd.notnull(ptau['PLASMAPTAU181'])) & (ptau['VISCODE2'] != 'nv')]\n",
    "ptau2.info()"
   ]
  },
  {
   "cell_type": "code",
   "execution_count": 76,
   "id": "f9fae2df-f9c0-4323-88a2-c59cfd6f2be3",
   "metadata": {},
   "outputs": [
    {
     "name": "stdout",
     "output_type": "stream",
     "text": [
      "there are 108 duplicates\n"
     ]
    }
   ],
   "source": [
    "print(f\"there are {len(ptau2[ptau2.duplicated(subset=['RID','VISCODE2'],keep=False)])} duplicates\")"
   ]
  },
  {
   "cell_type": "code",
   "execution_count": 77,
   "id": "dab31e76-2e1a-4375-b991-1ca9fd9e621c",
   "metadata": {},
   "outputs": [],
   "source": [
    "ptau2.drop_duplicates(subset=['RID','VISCODE2'],keep='first',inplace=True)"
   ]
  },
  {
   "cell_type": "code",
   "execution_count": 78,
   "id": "5701bde1-f996-4de1-b2c6-42eee2870ebe",
   "metadata": {},
   "outputs": [],
   "source": [
    "ptausm=ptau2[['RID','VISCODE2', 'PLASMAPTAU181','EXAMDATE']]\n",
    "ptausm.rename(columns={'EXAMDATE':'PTAU_EXAMDATE'},inplace=True)"
   ]
  },
  {
   "cell_type": "code",
   "execution_count": 79,
   "id": "ea53dad9-9467-4ac0-b255-59cc5a26bcb1",
   "metadata": {},
   "outputs": [
    {
     "name": "stdout",
     "output_type": "stream",
     "text": [
      "Filled in 3700 values\n"
     ]
    }
   ],
   "source": [
    "merge_ptau=merge_plasma.merge(ptausm,on=['RID','VISCODE2'],how='left')\n",
    "print(f\"Filled in {len(merge_ptau.loc[pd.notnull(merge_ptau['PLASMAPTAU181'])])} values\")"
   ]
  },
  {
   "cell_type": "code",
   "execution_count": null,
   "id": "ea2ea330-0e8f-4379-b70c-d07a266eb218",
   "metadata": {},
   "outputs": [],
   "source": []
  },
  {
   "cell_type": "code",
   "execution_count": null,
   "id": "9e910966-df6e-4c5a-ad55-a4a1bb2cff0e",
   "metadata": {},
   "outputs": [],
   "source": []
  },
  {
   "cell_type": "markdown",
   "id": "7bf8ed93-0a9f-4561-b970-78304cb16383",
   "metadata": {},
   "source": [
    "## Step 9: MMSE: check data"
   ]
  },
  {
   "cell_type": "code",
   "execution_count": 80,
   "id": "bc42a8cd-6cd3-44d4-b4db-2e8947ffa7c0",
   "metadata": {},
   "outputs": [
    {
     "data": {
      "text/plain": [
       "13303"
      ]
     },
     "execution_count": 80,
     "metadata": {},
     "output_type": "execute_result"
    }
   ],
   "source": [
    "mmse=pd.read_csv(\"ADNIspreadsheets/Cognition/MMSE_30May2024.csv\")\n",
    "len(mmse)"
   ]
  },
  {
   "cell_type": "code",
   "execution_count": 81,
   "id": "174e907d-c06e-40f7-9aa3-ea6001efcc0e",
   "metadata": {},
   "outputs": [
    {
     "name": "stdout",
     "output_type": "stream",
     "text": [
      "Viscode2 null values: 262\n",
      "MMSCORE null values: 105\n"
     ]
    }
   ],
   "source": [
    "print(f\"Viscode2 null values: {len(mmse.loc[pd.isnull(mmse['VISCODE2'])])}\")\n",
    "print(f\"MMSCORE null values: {len(mmse.loc[pd.isnull(mmse['MMSCORE'])])}\")"
   ]
  },
  {
   "cell_type": "code",
   "execution_count": 82,
   "id": "e22b47f9-cda7-4a9e-9c31-f4e3383e6e91",
   "metadata": {},
   "outputs": [
    {
     "name": "stdout",
     "output_type": "stream",
     "text": [
      "12553\n"
     ]
    }
   ],
   "source": [
    "# Remove rows missing viscode 2 or MMSCORE (including -1 values), and Viscode2 is not \"f\"\n",
    "mmse2=mmse.loc[(pd.notnull(mmse['VISCODE2'])) & (pd.notnull(mmse['MMSCORE'])) &\n",
    "(mmse['VISCODE2'] != \"f\") & (mmse['MMSCORE'] >= 0)]\n",
    "print(len(mmse2))"
   ]
  },
  {
   "cell_type": "code",
   "execution_count": 83,
   "id": "2afd89c2-0efe-4a99-aee4-d10e50649db0",
   "metadata": {},
   "outputs": [
    {
     "data": {
      "text/html": [
       "<div>\n",
       "<style scoped>\n",
       "    .dataframe tbody tr th:only-of-type {\n",
       "        vertical-align: middle;\n",
       "    }\n",
       "\n",
       "    .dataframe tbody tr th {\n",
       "        vertical-align: top;\n",
       "    }\n",
       "\n",
       "    .dataframe thead th {\n",
       "        text-align: right;\n",
       "    }\n",
       "</style>\n",
       "<table border=\"1\" class=\"dataframe\">\n",
       "  <thead>\n",
       "    <tr style=\"text-align: right;\">\n",
       "      <th></th>\n",
       "      <th>PHASE</th>\n",
       "      <th>PTID</th>\n",
       "      <th>RID</th>\n",
       "      <th>VISCODE</th>\n",
       "      <th>VISCODE2</th>\n",
       "      <th>VISDATE</th>\n",
       "      <th>DONE</th>\n",
       "      <th>NDREASON</th>\n",
       "      <th>SOURCE</th>\n",
       "      <th>DATE</th>\n",
       "      <th>...</th>\n",
       "      <th>MMDRAW</th>\n",
       "      <th>MMSCORE</th>\n",
       "      <th>ID</th>\n",
       "      <th>SITEID</th>\n",
       "      <th>USERDATE</th>\n",
       "      <th>USERDATE2</th>\n",
       "      <th>DD_CRF_VERSION_LABEL</th>\n",
       "      <th>LANGUAGE_CODE</th>\n",
       "      <th>HAS_QC_ERROR</th>\n",
       "      <th>update_stamp</th>\n",
       "    </tr>\n",
       "  </thead>\n",
       "  <tbody>\n",
       "    <tr>\n",
       "      <th>4927</th>\n",
       "      <td>ADNIGO</td>\n",
       "      <td>031_S_0830</td>\n",
       "      <td>830</td>\n",
       "      <td>m60</td>\n",
       "      <td>m60</td>\n",
       "      <td>NaN</td>\n",
       "      <td>NaN</td>\n",
       "      <td>NaN</td>\n",
       "      <td>NaN</td>\n",
       "      <td>NaN</td>\n",
       "      <td>...</td>\n",
       "      <td>1.0</td>\n",
       "      <td>25.0</td>\n",
       "      <td>1352</td>\n",
       "      <td>21</td>\n",
       "      <td>2011-09-23</td>\n",
       "      <td>2014-07-08</td>\n",
       "      <td>NaN</td>\n",
       "      <td>NaN</td>\n",
       "      <td>NaN</td>\n",
       "      <td>2014-07-08 19:02:06.0</td>\n",
       "    </tr>\n",
       "    <tr>\n",
       "      <th>5312</th>\n",
       "      <td>ADNI2</td>\n",
       "      <td>031_S_0830</td>\n",
       "      <td>830</td>\n",
       "      <td>v06</td>\n",
       "      <td>m60</td>\n",
       "      <td>2011-09-22</td>\n",
       "      <td>NaN</td>\n",
       "      <td>NaN</td>\n",
       "      <td>NaN</td>\n",
       "      <td>NaN</td>\n",
       "      <td>...</td>\n",
       "      <td>1.0</td>\n",
       "      <td>23.0</td>\n",
       "      <td>668</td>\n",
       "      <td>21</td>\n",
       "      <td>2011-09-23</td>\n",
       "      <td>2012-07-19</td>\n",
       "      <td>NaN</td>\n",
       "      <td>NaN</td>\n",
       "      <td>NaN</td>\n",
       "      <td>2012-11-16 12:25:07.0</td>\n",
       "    </tr>\n",
       "  </tbody>\n",
       "</table>\n",
       "<p>2 rows × 59 columns</p>\n",
       "</div>"
      ],
      "text/plain": [
       "       PHASE        PTID  RID VISCODE VISCODE2     VISDATE  DONE  NDREASON  \\\n",
       "4927  ADNIGO  031_S_0830  830     m60      m60         NaN   NaN       NaN   \n",
       "5312   ADNI2  031_S_0830  830     v06      m60  2011-09-22   NaN       NaN   \n",
       "\n",
       "      SOURCE DATE  ...  MMDRAW  MMSCORE    ID  SITEID    USERDATE   USERDATE2  \\\n",
       "4927     NaN  NaN  ...     1.0     25.0  1352      21  2011-09-23  2014-07-08   \n",
       "5312     NaN  NaN  ...     1.0     23.0   668      21  2011-09-23  2012-07-19   \n",
       "\n",
       "      DD_CRF_VERSION_LABEL  LANGUAGE_CODE  HAS_QC_ERROR           update_stamp  \n",
       "4927                   NaN            NaN           NaN  2014-07-08 19:02:06.0  \n",
       "5312                   NaN            NaN           NaN  2012-11-16 12:25:07.0  \n",
       "\n",
       "[2 rows x 59 columns]"
      ]
     },
     "execution_count": 83,
     "metadata": {},
     "output_type": "execute_result"
    }
   ],
   "source": [
    "## Check for duplicates: \n",
    "mmse2[mmse2.duplicated(subset=['RID','VISCODE2'],keep=False)]"
   ]
  },
  {
   "cell_type": "code",
   "execution_count": 84,
   "id": "0484ca70-80a3-4693-b0cf-bc54eaa9fc11",
   "metadata": {},
   "outputs": [
    {
     "name": "stdout",
     "output_type": "stream",
     "text": [
      "0\n"
     ]
    }
   ],
   "source": [
    "# drop duplicate where RID == 830 and VISCODE==m60\n",
    "mmse2=mmse2.drop([mmse2.loc[(mmse2['RID'] == 830) & (mmse2['VISCODE'] == 'm60')].index.values[0]])\n",
    "print(len(mmse2[mmse2.duplicated(subset=['RID','VISCODE2'],keep=False)]))"
   ]
  },
  {
   "cell_type": "code",
   "execution_count": 85,
   "id": "cd9b77f6-5725-40a0-9201-1d9974502873",
   "metadata": {},
   "outputs": [
    {
     "name": "stdout",
     "output_type": "stream",
     "text": [
      "0\n"
     ]
    }
   ],
   "source": [
    "# replace sc with bl\n",
    "for index,row in mmse2.iterrows():\n",
    "    if row['VISCODE2'] == 'sc':\n",
    "        mmse2.at[index,'VISCODE2'] = \"bl\"\n",
    "#check for dupes again\n",
    "print(len(mmse2[mmse2.duplicated(subset=['RID','VISCODE2'],keep=False)]))"
   ]
  },
  {
   "cell_type": "code",
   "execution_count": 86,
   "id": "40c6f5c0-19c6-4eea-bfff-fa9bb257b105",
   "metadata": {},
   "outputs": [],
   "source": [
    "## select only columns to merge\n",
    "mmsesm=mmse2[['RID','VISCODE2','VISDATE', 'MMSCORE']]\n",
    "mmsesm.rename(columns={'VISDATE':'EXAMDATE_MMSE', \"MMSCORE\": \"MMSE_validate\"},inplace=True)"
   ]
  },
  {
   "cell_type": "code",
   "execution_count": 87,
   "id": "598e0f5e-9d69-4de6-8dd0-796cf60259bb",
   "metadata": {},
   "outputs": [
    {
     "name": "stdout",
     "output_type": "stream",
     "text": [
      "Gained 17 data points.\n",
      "Still have 4931 null values.\n"
     ]
    }
   ],
   "source": [
    "merge_mmse=merge_ptau.merge(mmsesm,on=['RID','VISCODE2'],how='left')\n",
    "len(merge_mmse)\n",
    "print(f\"Gained {len(merge_mmse.loc[(pd.isnull(merge_mmse['MMSE'])) & (pd.notnull(merge_mmse['MMSE_validate']))])} data points.\")\n",
    "print(f\"Still have {len(merge_mmse.loc[(pd.isnull(merge_mmse['MMSE'])) & (pd.isnull(merge_mmse['MMSE_validate']))])} null values.\")"
   ]
  },
  {
   "cell_type": "code",
   "execution_count": 88,
   "id": "587cd36c-8f39-4075-9eef-044834ec446d",
   "metadata": {},
   "outputs": [
    {
     "name": "stdout",
     "output_type": "stream",
     "text": [
      "Extrapolated 17 data points to original column\n",
      "\n",
      "Some values different between original column and validate column, keeping validate column.\n",
      "\n",
      "<class 'pandas.core.frame.DataFrame'>\n",
      "RangeIndex: 16417 entries, 0 to 16416\n",
      "Columns: 126 entries, RID to MMSE_validate\n",
      "dtypes: datetime64[ns](2), float64(95), int64(3), object(26)\n",
      "memory usage: 15.8+ MB\n",
      "None\n"
     ]
    }
   ],
   "source": [
    "## Add any new _validate values to original column\n",
    "new=0\n",
    "for index,row in merge_mmse.iterrows():\n",
    "    if pd.isnull(row['MMSE']) and pd.notnull(row['MMSE_validate']):\n",
    "        merge_mmse.at[index,'MMSE'] = row['MMSE_validate']\n",
    "        new +=1\n",
    "        \n",
    "print(f\"Extrapolated {new} data points to original column\")\n",
    "print()\n",
    "\n",
    "## Check for any data points that are different both columns\n",
    "nomatch=len(merge_mmse.loc[(pd.notnull(merge_mmse['MMSE'])) & (pd.notnull(merge_mmse[\"MMSE_validate\"]))\n",
    "& (merge_mmse['MMSE'] != merge_mmse['MMSE_validate'])])  ## if both are not null and value does not match\n",
    "\n",
    "\n",
    "## If 0 columns different, drop validate column\n",
    "if nomatch == 0:\n",
    "    print('All values the same between original column and validate column, dropping validate column.')\n",
    "    merge_mmse.drop(columns=['MMSE_validate'],inplace=True)\n",
    "else:\n",
    "    print('Some values different between original column and validate column, keeping validate column.')\n",
    "\n",
    "print()\n",
    "print(merge_mmse.info())"
   ]
  },
  {
   "cell_type": "code",
   "execution_count": null,
   "id": "203683f5-c969-41e1-8c1c-97495ff6a406",
   "metadata": {},
   "outputs": [],
   "source": []
  },
  {
   "cell_type": "code",
   "execution_count": null,
   "id": "b9da2b67-bcec-466e-a1ea-156f6cb25172",
   "metadata": {},
   "outputs": [],
   "source": []
  },
  {
   "cell_type": "code",
   "execution_count": 89,
   "id": "d15b4770-6e82-4dd5-afd1-334f2321762c",
   "metadata": {},
   "outputs": [
    {
     "data": {
      "text/plain": [
       "173"
      ]
     },
     "execution_count": 89,
     "metadata": {},
     "output_type": "execute_result"
    }
   ],
   "source": [
    "nomatch=merge_mmse.loc[(pd.notnull(merge_mmse['MMSE'])) & (pd.notnull(merge_mmse[\"MMSE_validate\"]))\n",
    "& (merge_mmse['MMSE'] != merge_mmse['MMSE_validate'])]\n",
    "nomatchsm=nomatch[['RID','VISCODE2','PHASE_MERGE','EXAMDATE_MERGE','MMSE','MMSE_validate']]\n",
    "len(nomatchsm)"
   ]
  },
  {
   "cell_type": "code",
   "execution_count": 90,
   "id": "2deeba1a-6d8c-4c16-bbc2-f0ccc949e8b5",
   "metadata": {},
   "outputs": [
    {
     "data": {
      "text/plain": [
       "count    173.000000\n",
       "mean      -0.317919\n",
       "std        2.312145\n",
       "min       -9.000000\n",
       "25%       -1.000000\n",
       "50%        1.000000\n",
       "75%        1.000000\n",
       "max        6.000000\n",
       "Name: MMSE_diff, dtype: float64"
      ]
     },
     "execution_count": 90,
     "metadata": {},
     "output_type": "execute_result"
    }
   ],
   "source": [
    "nomatchsm['MMSE_diff'] = nomatchsm['MMSE'] - nomatchsm['MMSE_validate']\n",
    "nomatchsm['MMSE_diff'].describe()"
   ]
  },
  {
   "cell_type": "code",
   "execution_count": 91,
   "id": "312a705b-4644-479a-9245-840c93286187",
   "metadata": {},
   "outputs": [
    {
     "data": {
      "text/plain": [
       "PHASE_MERGE\n",
       "ADNI3    172\n",
       "ADNI2      1\n",
       "Name: count, dtype: int64"
      ]
     },
     "execution_count": 91,
     "metadata": {},
     "output_type": "execute_result"
    }
   ],
   "source": [
    "nomatchsm['PHASE_MERGE'].value_counts()"
   ]
  },
  {
   "cell_type": "code",
   "execution_count": 92,
   "id": "19e3f192-34b1-4c8f-bcef-03a95dae134d",
   "metadata": {},
   "outputs": [
    {
     "data": {
      "text/plain": [
       "VISCODE2\n",
       "bl      33\n",
       "m12     25\n",
       "m24     18\n",
       "m84      8\n",
       "m48      8\n",
       "m96      7\n",
       "m30      7\n",
       "m114     7\n",
       "m102     6\n",
       "m90      6\n",
       "m60      5\n",
       "m72      5\n",
       "m132     5\n",
       "m126     4\n",
       "m150     3\n",
       "m66      3\n",
       "m174     3\n",
       "m120     3\n",
       "m36      3\n",
       "m138     3\n",
       "m108     3\n",
       "m42      2\n",
       "m54      2\n",
       "m78      1\n",
       "m162     1\n",
       "m18      1\n",
       "m186     1\n",
       "Name: count, dtype: int64"
      ]
     },
     "execution_count": 92,
     "metadata": {},
     "output_type": "execute_result"
    }
   ],
   "source": [
    "nomatchsm['VISCODE2'].value_counts()"
   ]
  },
  {
   "cell_type": "code",
   "execution_count": null,
   "id": "62366407-e8bc-4704-86cb-3ccfd13b6aef",
   "metadata": {},
   "outputs": [],
   "source": []
  },
  {
   "cell_type": "markdown",
   "id": "a67c9c60-7f76-42f2-8809-84d2e62a0381",
   "metadata": {},
   "source": [
    "## Step 10: Neurobat / LDELTOTAL: check data"
   ]
  },
  {
   "cell_type": "code",
   "execution_count": 93,
   "id": "58be32bb-3f75-4e0e-8766-0cc9fff49b8c",
   "metadata": {},
   "outputs": [
    {
     "name": "stdout",
     "output_type": "stream",
     "text": [
      "15514\n"
     ]
    },
    {
     "name": "stderr",
     "output_type": "stream",
     "text": [
      "/var/folders/p8/czc1tc6x0t9d8stjlfnm009c0000gn/T/ipykernel_17253/607201030.py:1: DtypeWarning: Columns (10,82) have mixed types. Specify dtype option on import or set low_memory=False.\n",
      "  neuro=pd.read_csv(\"ADNIspreadsheets/Cognition/NEUROBAT_31May2024.csv\")\n"
     ]
    },
    {
     "data": {
      "text/html": [
       "<div>\n",
       "<style scoped>\n",
       "    .dataframe tbody tr th:only-of-type {\n",
       "        vertical-align: middle;\n",
       "    }\n",
       "\n",
       "    .dataframe tbody tr th {\n",
       "        vertical-align: top;\n",
       "    }\n",
       "\n",
       "    .dataframe thead th {\n",
       "        text-align: right;\n",
       "    }\n",
       "</style>\n",
       "<table border=\"1\" class=\"dataframe\">\n",
       "  <thead>\n",
       "    <tr style=\"text-align: right;\">\n",
       "      <th></th>\n",
       "      <th>Phase</th>\n",
       "      <th>ID</th>\n",
       "      <th>PTID</th>\n",
       "      <th>RID</th>\n",
       "      <th>SITEID</th>\n",
       "      <th>VISCODE</th>\n",
       "      <th>VISCODE2</th>\n",
       "      <th>VISDATE</th>\n",
       "      <th>USERDATE</th>\n",
       "      <th>USERDATE2</th>\n",
       "      <th>...</th>\n",
       "      <th>MINTSEMCUE</th>\n",
       "      <th>MINTTOTAL</th>\n",
       "      <th>MINTUNCUED</th>\n",
       "      <th>RAVLT_forgetting</th>\n",
       "      <th>RAVLT_immediate</th>\n",
       "      <th>RAVLT_learning</th>\n",
       "      <th>RAVLT_perc_forgetting</th>\n",
       "      <th>DATE</th>\n",
       "      <th>SOURCE</th>\n",
       "      <th>update_stamp</th>\n",
       "    </tr>\n",
       "  </thead>\n",
       "  <tbody>\n",
       "    <tr>\n",
       "      <th>0</th>\n",
       "      <td>ADNI1</td>\n",
       "      <td>12</td>\n",
       "      <td>011_S_0002</td>\n",
       "      <td>2</td>\n",
       "      <td>107</td>\n",
       "      <td>sc</td>\n",
       "      <td>sc</td>\n",
       "      <td>2005-08-17</td>\n",
       "      <td>2005-08-17</td>\n",
       "      <td>NaN</td>\n",
       "      <td>...</td>\n",
       "      <td>NaN</td>\n",
       "      <td>NaN</td>\n",
       "      <td>NaN</td>\n",
       "      <td>NaN</td>\n",
       "      <td>NaN</td>\n",
       "      <td>NaN</td>\n",
       "      <td>NaN</td>\n",
       "      <td>NaN</td>\n",
       "      <td>NaN</td>\n",
       "      <td>2014-08-26 16:22:44.0</td>\n",
       "    </tr>\n",
       "    <tr>\n",
       "      <th>1</th>\n",
       "      <td>ADNI1</td>\n",
       "      <td>14</td>\n",
       "      <td>011_S_0003</td>\n",
       "      <td>3</td>\n",
       "      <td>107</td>\n",
       "      <td>sc</td>\n",
       "      <td>sc</td>\n",
       "      <td>2005-08-18</td>\n",
       "      <td>2005-08-18</td>\n",
       "      <td>NaN</td>\n",
       "      <td>...</td>\n",
       "      <td>NaN</td>\n",
       "      <td>NaN</td>\n",
       "      <td>NaN</td>\n",
       "      <td>NaN</td>\n",
       "      <td>NaN</td>\n",
       "      <td>NaN</td>\n",
       "      <td>NaN</td>\n",
       "      <td>NaN</td>\n",
       "      <td>NaN</td>\n",
       "      <td>2014-08-26 16:22:44.0</td>\n",
       "    </tr>\n",
       "    <tr>\n",
       "      <th>2</th>\n",
       "      <td>ADNI1</td>\n",
       "      <td>16</td>\n",
       "      <td>022_S_0004</td>\n",
       "      <td>4</td>\n",
       "      <td>10</td>\n",
       "      <td>sc</td>\n",
       "      <td>sc</td>\n",
       "      <td>2005-08-18</td>\n",
       "      <td>2005-08-18</td>\n",
       "      <td>NaN</td>\n",
       "      <td>...</td>\n",
       "      <td>NaN</td>\n",
       "      <td>NaN</td>\n",
       "      <td>NaN</td>\n",
       "      <td>NaN</td>\n",
       "      <td>NaN</td>\n",
       "      <td>NaN</td>\n",
       "      <td>NaN</td>\n",
       "      <td>NaN</td>\n",
       "      <td>NaN</td>\n",
       "      <td>2014-08-26 16:22:44.0</td>\n",
       "    </tr>\n",
       "    <tr>\n",
       "      <th>3</th>\n",
       "      <td>ADNI1</td>\n",
       "      <td>18</td>\n",
       "      <td>011_S_0005</td>\n",
       "      <td>5</td>\n",
       "      <td>107</td>\n",
       "      <td>sc</td>\n",
       "      <td>sc</td>\n",
       "      <td>2005-08-23</td>\n",
       "      <td>2005-08-23</td>\n",
       "      <td>NaN</td>\n",
       "      <td>...</td>\n",
       "      <td>NaN</td>\n",
       "      <td>NaN</td>\n",
       "      <td>NaN</td>\n",
       "      <td>NaN</td>\n",
       "      <td>NaN</td>\n",
       "      <td>NaN</td>\n",
       "      <td>NaN</td>\n",
       "      <td>NaN</td>\n",
       "      <td>NaN</td>\n",
       "      <td>2014-08-26 16:22:44.0</td>\n",
       "    </tr>\n",
       "    <tr>\n",
       "      <th>4</th>\n",
       "      <td>ADNI1</td>\n",
       "      <td>20</td>\n",
       "      <td>022_S_0007</td>\n",
       "      <td>7</td>\n",
       "      <td>10</td>\n",
       "      <td>sc</td>\n",
       "      <td>sc</td>\n",
       "      <td>2005-08-25</td>\n",
       "      <td>2005-08-25</td>\n",
       "      <td>NaN</td>\n",
       "      <td>...</td>\n",
       "      <td>NaN</td>\n",
       "      <td>NaN</td>\n",
       "      <td>NaN</td>\n",
       "      <td>NaN</td>\n",
       "      <td>NaN</td>\n",
       "      <td>NaN</td>\n",
       "      <td>NaN</td>\n",
       "      <td>NaN</td>\n",
       "      <td>NaN</td>\n",
       "      <td>2014-08-26 16:22:44.0</td>\n",
       "    </tr>\n",
       "  </tbody>\n",
       "</table>\n",
       "<p>5 rows × 85 columns</p>\n",
       "</div>"
      ],
      "text/plain": [
       "   Phase  ID        PTID  RID  SITEID VISCODE VISCODE2     VISDATE  \\\n",
       "0  ADNI1  12  011_S_0002    2     107      sc       sc  2005-08-17   \n",
       "1  ADNI1  14  011_S_0003    3     107      sc       sc  2005-08-18   \n",
       "2  ADNI1  16  022_S_0004    4      10      sc       sc  2005-08-18   \n",
       "3  ADNI1  18  011_S_0005    5     107      sc       sc  2005-08-23   \n",
       "4  ADNI1  20  022_S_0007    7      10      sc       sc  2005-08-25   \n",
       "\n",
       "     USERDATE USERDATE2  ... MINTSEMCUE  MINTTOTAL  MINTUNCUED  \\\n",
       "0  2005-08-17       NaN  ...        NaN        NaN         NaN   \n",
       "1  2005-08-18       NaN  ...        NaN        NaN         NaN   \n",
       "2  2005-08-18       NaN  ...        NaN        NaN         NaN   \n",
       "3  2005-08-23       NaN  ...        NaN        NaN         NaN   \n",
       "4  2005-08-25       NaN  ...        NaN        NaN         NaN   \n",
       "\n",
       "   RAVLT_forgetting  RAVLT_immediate  RAVLT_learning  RAVLT_perc_forgetting  \\\n",
       "0               NaN              NaN             NaN                    NaN   \n",
       "1               NaN              NaN             NaN                    NaN   \n",
       "2               NaN              NaN             NaN                    NaN   \n",
       "3               NaN              NaN             NaN                    NaN   \n",
       "4               NaN              NaN             NaN                    NaN   \n",
       "\n",
       "   DATE  SOURCE           update_stamp  \n",
       "0   NaN     NaN  2014-08-26 16:22:44.0  \n",
       "1   NaN     NaN  2014-08-26 16:22:44.0  \n",
       "2   NaN     NaN  2014-08-26 16:22:44.0  \n",
       "3   NaN     NaN  2014-08-26 16:22:44.0  \n",
       "4   NaN     NaN  2014-08-26 16:22:44.0  \n",
       "\n",
       "[5 rows x 85 columns]"
      ]
     },
     "execution_count": 93,
     "metadata": {},
     "output_type": "execute_result"
    }
   ],
   "source": [
    "neuro=pd.read_csv(\"ADNIspreadsheets/Cognition/NEUROBAT_31May2024.csv\")\n",
    "print(len(neuro))\n",
    "neuro.head()"
   ]
  },
  {
   "cell_type": "code",
   "execution_count": 94,
   "id": "99559109-2839-4f0c-8cea-32f67c491b04",
   "metadata": {},
   "outputs": [
    {
     "name": "stdout",
     "output_type": "stream",
     "text": [
      "Viscode2 null values: 17\n",
      "LDELTOTAL null values: 4520\n"
     ]
    }
   ],
   "source": [
    "print(f\"Viscode2 null values: {len(neuro.loc[pd.isnull(neuro['VISCODE2'])])}\")\n",
    "print(f\"LDELTOTAL null values: {len(neuro.loc[pd.isnull(neuro['LDELTOTAL'])])}\")"
   ]
  },
  {
   "cell_type": "code",
   "execution_count": 95,
   "id": "63862ced-0894-4277-ae8c-29b2acf861a6",
   "metadata": {},
   "outputs": [
    {
     "name": "stdout",
     "output_type": "stream",
     "text": [
      "10545\n"
     ]
    }
   ],
   "source": [
    "# Remove rows missing viscode 2 or LDEDTOTAL (including -1 values), and Viscode2 is not \"f\"\n",
    "neuro2=neuro.loc[(pd.notnull(neuro['VISCODE2'])) & (pd.notnull(neuro['LDELTOTAL'])) &\n",
    "(neuro['VISCODE2'] != \"f\") & (neuro['VISCODE2'] != \"uns1\") & (neuro['LDELTOTAL'] >= 0)]\n",
    "print(len(neuro2))  "
   ]
  },
  {
   "cell_type": "code",
   "execution_count": 96,
   "id": "5369973e-a2bc-4b30-82c8-511af149e223",
   "metadata": {},
   "outputs": [
    {
     "data": {
      "text/html": [
       "<div>\n",
       "<style scoped>\n",
       "    .dataframe tbody tr th:only-of-type {\n",
       "        vertical-align: middle;\n",
       "    }\n",
       "\n",
       "    .dataframe tbody tr th {\n",
       "        vertical-align: top;\n",
       "    }\n",
       "\n",
       "    .dataframe thead th {\n",
       "        text-align: right;\n",
       "    }\n",
       "</style>\n",
       "<table border=\"1\" class=\"dataframe\">\n",
       "  <thead>\n",
       "    <tr style=\"text-align: right;\">\n",
       "      <th></th>\n",
       "      <th>Phase</th>\n",
       "      <th>ID</th>\n",
       "      <th>PTID</th>\n",
       "      <th>RID</th>\n",
       "      <th>SITEID</th>\n",
       "      <th>VISCODE</th>\n",
       "      <th>VISCODE2</th>\n",
       "      <th>VISDATE</th>\n",
       "      <th>USERDATE</th>\n",
       "      <th>USERDATE2</th>\n",
       "      <th>...</th>\n",
       "      <th>MINTSEMCUE</th>\n",
       "      <th>MINTTOTAL</th>\n",
       "      <th>MINTUNCUED</th>\n",
       "      <th>RAVLT_forgetting</th>\n",
       "      <th>RAVLT_immediate</th>\n",
       "      <th>RAVLT_learning</th>\n",
       "      <th>RAVLT_perc_forgetting</th>\n",
       "      <th>DATE</th>\n",
       "      <th>SOURCE</th>\n",
       "      <th>update_stamp</th>\n",
       "    </tr>\n",
       "  </thead>\n",
       "  <tbody>\n",
       "    <tr>\n",
       "      <th>5902</th>\n",
       "      <td>ADNIGO</td>\n",
       "      <td>1630</td>\n",
       "      <td>031_S_0830</td>\n",
       "      <td>830</td>\n",
       "      <td>21</td>\n",
       "      <td>m60</td>\n",
       "      <td>m60</td>\n",
       "      <td>NaN</td>\n",
       "      <td>2011-09-23</td>\n",
       "      <td>NaN</td>\n",
       "      <td>...</td>\n",
       "      <td>NaN</td>\n",
       "      <td>NaN</td>\n",
       "      <td>NaN</td>\n",
       "      <td>NaN</td>\n",
       "      <td>NaN</td>\n",
       "      <td>NaN</td>\n",
       "      <td>NaN</td>\n",
       "      <td>NaN</td>\n",
       "      <td>NaN</td>\n",
       "      <td>2012-11-16 09:42:20.0</td>\n",
       "    </tr>\n",
       "    <tr>\n",
       "      <th>6401</th>\n",
       "      <td>ADNI2</td>\n",
       "      <td>882</td>\n",
       "      <td>031_S_0830</td>\n",
       "      <td>830</td>\n",
       "      <td>21</td>\n",
       "      <td>v06</td>\n",
       "      <td>m60</td>\n",
       "      <td>2011-09-22</td>\n",
       "      <td>2011-09-23</td>\n",
       "      <td>2014-12-17</td>\n",
       "      <td>...</td>\n",
       "      <td>NaN</td>\n",
       "      <td>NaN</td>\n",
       "      <td>NaN</td>\n",
       "      <td>NaN</td>\n",
       "      <td>NaN</td>\n",
       "      <td>NaN</td>\n",
       "      <td>NaN</td>\n",
       "      <td>NaN</td>\n",
       "      <td>NaN</td>\n",
       "      <td>2014-12-18 19:18:43.0</td>\n",
       "    </tr>\n",
       "  </tbody>\n",
       "</table>\n",
       "<p>2 rows × 85 columns</p>\n",
       "</div>"
      ],
      "text/plain": [
       "       Phase    ID        PTID  RID  SITEID VISCODE VISCODE2     VISDATE  \\\n",
       "5902  ADNIGO  1630  031_S_0830  830      21     m60      m60         NaN   \n",
       "6401   ADNI2   882  031_S_0830  830      21     v06      m60  2011-09-22   \n",
       "\n",
       "        USERDATE   USERDATE2  ... MINTSEMCUE  MINTTOTAL  MINTUNCUED  \\\n",
       "5902  2011-09-23         NaN  ...        NaN        NaN         NaN   \n",
       "6401  2011-09-23  2014-12-17  ...        NaN        NaN         NaN   \n",
       "\n",
       "      RAVLT_forgetting  RAVLT_immediate  RAVLT_learning  \\\n",
       "5902               NaN              NaN             NaN   \n",
       "6401               NaN              NaN             NaN   \n",
       "\n",
       "      RAVLT_perc_forgetting  DATE  SOURCE           update_stamp  \n",
       "5902                    NaN   NaN     NaN  2012-11-16 09:42:20.0  \n",
       "6401                    NaN   NaN     NaN  2014-12-18 19:18:43.0  \n",
       "\n",
       "[2 rows x 85 columns]"
      ]
     },
     "execution_count": 96,
     "metadata": {},
     "output_type": "execute_result"
    }
   ],
   "source": [
    "## Check for duplicates: \n",
    "neuro2[neuro2.duplicated(subset=['RID','VISCODE2'],keep=False)]"
   ]
  },
  {
   "cell_type": "code",
   "execution_count": 97,
   "id": "b42ee100-589e-4220-bca5-1347030bdeec",
   "metadata": {},
   "outputs": [
    {
     "name": "stdout",
     "output_type": "stream",
     "text": [
      "0\n"
     ]
    }
   ],
   "source": [
    "# drop duplicate where RID == 830 and VISCODE==m60\n",
    "neuro2=neuro2.drop([neuro2.loc[(neuro2['RID'] == 830) & (neuro2['VISCODE'] == 'm60')].index.values[0]])\n",
    "\n",
    "print(len(neuro2[neuro2.duplicated(subset=['RID','VISCODE2'],keep=False)]))"
   ]
  },
  {
   "cell_type": "code",
   "execution_count": 98,
   "id": "61204ec9-e253-487b-8af4-b10ed7fd7e59",
   "metadata": {},
   "outputs": [
    {
     "name": "stdout",
     "output_type": "stream",
     "text": [
      "0\n"
     ]
    }
   ],
   "source": [
    "# replace sc with bl\n",
    "for index,row in neuro2.iterrows():\n",
    "    if row['VISCODE2'] == 'sc':\n",
    "        neuro2.at[index,'VISCODE2'] = \"bl\"\n",
    "#check for dupes again\n",
    "print(len(neuro2[neuro2.duplicated(subset=['RID','VISCODE2'],keep=False)]))"
   ]
  },
  {
   "cell_type": "code",
   "execution_count": 99,
   "id": "1395a806-7824-4109-a950-4d301fee1a82",
   "metadata": {},
   "outputs": [
    {
     "data": {
      "text/plain": [
       "10544"
      ]
     },
     "execution_count": 99,
     "metadata": {},
     "output_type": "execute_result"
    }
   ],
   "source": [
    "neurosm=neuro2[['RID','VISCODE2','VISDATE', 'LDELTOTAL']]\n",
    "neurosm.rename(columns={'VISDATE':'EXAMDATE_LDELTOTAL',\"LDELTOTAL\":\"LDELTOTAL_validate\"},inplace=True)\n",
    "len(neurosm)"
   ]
  },
  {
   "cell_type": "code",
   "execution_count": 100,
   "id": "2843e4b5-20ec-4614-bb98-5f49a64e4584",
   "metadata": {},
   "outputs": [
    {
     "name": "stdout",
     "output_type": "stream",
     "text": [
      "16417\n",
      "Gained 7 data points.\n",
      "Still have 6968 null values.\n"
     ]
    }
   ],
   "source": [
    "merge_ldel=merge_mmse.merge(neurosm,on=['RID','VISCODE2'],how='left')\n",
    "print(len(merge_ldel))\n",
    "print(f\"Gained {len(merge_ldel.loc[(pd.isnull(merge_ldel['LDELTOTAL'])) & (pd.notnull(merge_ldel['LDELTOTAL_validate']))])} data points.\")\n",
    "print(f\"Still have {len(merge_ldel.loc[(pd.isnull(merge_ldel['LDELTOTAL'])) & (pd.isnull(merge_ldel['LDELTOTAL_validate']))])} null values.\")"
   ]
  },
  {
   "cell_type": "code",
   "execution_count": 101,
   "id": "9139d108-67fc-401a-bce7-4cdf52a0d8ca",
   "metadata": {},
   "outputs": [
    {
     "name": "stdout",
     "output_type": "stream",
     "text": [
      "Extrapolated 7 data points to original column\n",
      "\n",
      "All values the same between original column and validate column, dropping validate column.\n",
      "\n",
      "<class 'pandas.core.frame.DataFrame'>\n",
      "RangeIndex: 16417 entries, 0 to 16416\n",
      "Columns: 127 entries, RID to EXAMDATE_LDELTOTAL\n",
      "dtypes: datetime64[ns](2), float64(95), int64(3), object(27)\n",
      "memory usage: 15.9+ MB\n",
      "None\n"
     ]
    }
   ],
   "source": [
    "## Add any new _validate values to original column\n",
    "new=0\n",
    "for index,row in merge_ldel.iterrows():\n",
    "    if pd.isnull(row['LDELTOTAL']) and pd.notnull(row['LDELTOTAL_validate']):\n",
    "        merge_ldel.at[index,'LDELTOTAL'] = row['LDELTOTAL_validate']\n",
    "        new +=1\n",
    "        \n",
    "print(f\"Extrapolated {new} data points to original column\")\n",
    "print()\n",
    "\n",
    "## Check for any data points that are different both columns\n",
    "nomatch=len(merge_ldel.loc[(pd.notnull(merge_ldel['LDELTOTAL'])) & (pd.notnull(merge_ldel[\"LDELTOTAL_validate\"]))\n",
    "& (merge_ldel['LDELTOTAL'] != merge_ldel['LDELTOTAL_validate'])])  ## if both are not null and value does not match\n",
    "\n",
    "\n",
    "## If 0 columns different, drop validate column\n",
    "if nomatch == 0:\n",
    "    print('All values the same between original column and validate column, dropping validate column.')\n",
    "    merge_ldel.drop(columns=['LDELTOTAL_validate'],inplace=True)\n",
    "else:\n",
    "    print('Some values different between original column and validate column, keeping validate column.')\n",
    "\n",
    "print()\n",
    "print(merge_ldel.info())"
   ]
  },
  {
   "cell_type": "code",
   "execution_count": null,
   "id": "94c99243-8915-4074-a99a-8b6294bee54b",
   "metadata": {},
   "outputs": [],
   "source": []
  },
  {
   "cell_type": "code",
   "execution_count": null,
   "id": "5bf2dad5-04fd-4007-bfb7-095c6f4e02d8",
   "metadata": {},
   "outputs": [],
   "source": []
  },
  {
   "cell_type": "code",
   "execution_count": null,
   "id": "01c3a14f-e1ce-4ee3-8f9d-0e7c2d153460",
   "metadata": {},
   "outputs": [],
   "source": []
  },
  {
   "cell_type": "markdown",
   "id": "e70fbd03-8e25-4a8c-9de7-1b056326f983",
   "metadata": {},
   "source": [
    "## Step 11: Imputed Amyloid Status and Diagnosis: add data"
   ]
  },
  {
   "cell_type": "code",
   "execution_count": 102,
   "id": "b6a02dfd-6cc8-42ee-9d0b-a989e1dfcb1a",
   "metadata": {},
   "outputs": [
    {
     "name": "stdout",
     "output_type": "stream",
     "text": [
      "still missing DX: 4925\n",
      "still missing Amyloid Status: 12767\n"
     ]
    }
   ],
   "source": [
    "print(f\"still missing DX: {len(merge_ldel.loc[pd.isnull(merge_ldel['DX'])])}\")\n",
    "print(f\"still missing Amyloid Status: {len(merge_ldel.loc[pd.isnull(merge_ldel['AMYLOID_STATUS'])])}\")"
   ]
  },
  {
   "cell_type": "code",
   "execution_count": 103,
   "id": "40d5920c-2f07-4de1-bad6-a1962ad4c076",
   "metadata": {},
   "outputs": [],
   "source": [
    "merge_imp = merge_ldel.copy()"
   ]
  },
  {
   "cell_type": "code",
   "execution_count": 104,
   "id": "961bfa5c-0d15-44e0-9e0c-da352f0c6dae",
   "metadata": {},
   "outputs": [],
   "source": [
    "## Make copies of DX and EXAMDATE_MERGE column to use in making backwards, forwards, and nearest columns\n",
    "merge_imp['DX_copy'] = merge_imp['DX']\n",
    "merge_imp['EXAMDATE_copy'] = merge_imp['EXAMDATE_MERGE']\n",
    "merge_imp['AMYLOID_STATUS_copy'] = merge_imp['AMYLOID_STATUS']"
   ]
  },
  {
   "cell_type": "code",
   "execution_count": null,
   "id": "673f03db-3952-4aff-8b9a-7310b9c0b6d7",
   "metadata": {},
   "outputs": [],
   "source": []
  },
  {
   "cell_type": "code",
   "execution_count": null,
   "id": "e7c9a433-b995-4d6f-8522-cc10dd8a3b2b",
   "metadata": {},
   "outputs": [],
   "source": []
  },
  {
   "cell_type": "code",
   "execution_count": null,
   "id": "79eb0ffc-f5ba-4291-bb8a-b4a8dcba3b52",
   "metadata": {},
   "outputs": [],
   "source": []
  },
  {
   "cell_type": "markdown",
   "id": "12bb601f-1c45-4148-9b4f-3a91de616627",
   "metadata": {},
   "source": [
    "### Fill NA for Amyloid Status"
   ]
  },
  {
   "cell_type": "code",
   "execution_count": 105,
   "id": "662e4f66-3d87-4844-b8b7-3964120e9ce0",
   "metadata": {},
   "outputs": [
    {
     "name": "stdout",
     "output_type": "stream",
     "text": [
      "<class 'pandas.core.frame.DataFrame'>\n",
      "Index: 16417 entries, 12690 to 16404\n",
      "Data columns (total 4 columns):\n",
      " #   Column                                   Non-Null Count  Dtype         \n",
      "---  ------                                   --------------  -----         \n",
      " 0   RID                                      16417 non-null  int64         \n",
      " 1   EXAMDATE_MERGE                           16417 non-null  datetime64[ns]\n",
      " 2   AMYLOID_STATUS_fillna_previous           9878 non-null   float64       \n",
      " 3   AMYLOID_STATUS_fillna_previous_EXAMDATE  9878 non-null   datetime64[ns]\n",
      "dtypes: datetime64[ns](2), float64(1), int64(1)\n",
      "memory usage: 641.3 KB\n"
     ]
    }
   ],
   "source": [
    "## Make column filling from previous tp\n",
    "amystat_backward = pd.merge_asof(\n",
    "    left=merge_imp.sort_values('EXAMDATE_MERGE')[['RID','EXAMDATE_MERGE']].dropna(subset=['EXAMDATE_MERGE']).reset_index(drop=True),                       # cols to match on\n",
    "    right=merge_imp.sort_values('EXAMDATE_MERGE')[['RID','EXAMDATE_MERGE','AMYLOID_STATUS_copy','EXAMDATE_copy']].dropna(axis=0, subset=['EXAMDATE_MERGE','AMYLOID_STATUS_copy']), # cols to match on + cols to add\n",
    "    by=['RID'],\n",
    "    allow_exact_matches=True,\n",
    "    on='EXAMDATE_MERGE', direction='backward',\n",
    "    ).rename(columns={'AMYLOID_STATUS_copy':'AMYLOID_STATUS_fillna_previous','EXAMDATE_copy':'AMYLOID_STATUS_fillna_previous_EXAMDATE'}).sort_values('RID')\n",
    "\n",
    "amystat_backward.info()"
   ]
  },
  {
   "cell_type": "code",
   "execution_count": 106,
   "id": "9f94a0e1-e1b4-4be1-a29a-2cb0c899ac15",
   "metadata": {},
   "outputs": [
    {
     "name": "stdout",
     "output_type": "stream",
     "text": [
      "<class 'pandas.core.frame.DataFrame'>\n",
      "Index: 16417 entries, 12690 to 16404\n",
      "Data columns (total 4 columns):\n",
      " #   Column                                  Non-Null Count  Dtype         \n",
      "---  ------                                  --------------  -----         \n",
      " 0   RID                                     16417 non-null  int64         \n",
      " 1   EXAMDATE_MERGE                          16417 non-null  datetime64[ns]\n",
      " 2   AMYLOID_STATUS_fillna_forward           9212 non-null   float64       \n",
      " 3   AMYLOID_STATUS_fillna_forward_EXAMDATE  9212 non-null   datetime64[ns]\n",
      "dtypes: datetime64[ns](2), float64(1), int64(1)\n",
      "memory usage: 641.3 KB\n"
     ]
    }
   ],
   "source": [
    "## Make column filling from forward tp\n",
    "amystat_forward = pd.merge_asof(\n",
    "    left=merge_imp.sort_values('EXAMDATE_MERGE')[['RID','EXAMDATE_MERGE']].dropna(subset=['EXAMDATE_MERGE']).reset_index(drop=True),                       # cols to match on\n",
    "    right=merge_imp.sort_values('EXAMDATE_MERGE')[['RID','EXAMDATE_MERGE','AMYLOID_STATUS_copy','EXAMDATE_copy']].dropna(axis=0, subset=['EXAMDATE_MERGE','AMYLOID_STATUS_copy']), # cols to match on + cols to add\n",
    "    by=['RID'],\n",
    "    allow_exact_matches=True,\n",
    "    on='EXAMDATE_MERGE', direction='forward',\n",
    "    ).rename(columns={'AMYLOID_STATUS_copy':'AMYLOID_STATUS_fillna_forward','EXAMDATE_copy':'AMYLOID_STATUS_fillna_forward_EXAMDATE'}).sort_values('RID')\n",
    "\n",
    "amystat_forward.info()"
   ]
  },
  {
   "cell_type": "code",
   "execution_count": 107,
   "id": "65527afa-2248-4f8d-96cc-237bb3e96b9e",
   "metadata": {},
   "outputs": [
    {
     "name": "stdout",
     "output_type": "stream",
     "text": [
      "<class 'pandas.core.frame.DataFrame'>\n",
      "Index: 16417 entries, 12690 to 16404\n",
      "Data columns (total 4 columns):\n",
      " #   Column                                  Non-Null Count  Dtype         \n",
      "---  ------                                  --------------  -----         \n",
      " 0   RID                                     16417 non-null  int64         \n",
      " 1   EXAMDATE_MERGE                          16417 non-null  datetime64[ns]\n",
      " 2   AMYLOID_STATUS_fillna_nearest           11827 non-null  float64       \n",
      " 3   AMYLOID_STATUS_fillna_nearest_EXAMDATE  11827 non-null  datetime64[ns]\n",
      "dtypes: datetime64[ns](2), float64(1), int64(1)\n",
      "memory usage: 641.3 KB\n"
     ]
    }
   ],
   "source": [
    "## Make column filling from nearest tp\n",
    "amystat_nearest = pd.merge_asof(\n",
    "    left=merge_imp.sort_values('EXAMDATE_MERGE')[['RID','EXAMDATE_MERGE']].dropna(subset=['EXAMDATE_MERGE']).reset_index(drop=True),                       # cols to match on\n",
    "    right=merge_imp.sort_values('EXAMDATE_MERGE')[['RID','EXAMDATE_MERGE','AMYLOID_STATUS_copy','EXAMDATE_copy']].dropna(axis=0, subset=['EXAMDATE_MERGE','AMYLOID_STATUS_copy']), # cols to match on + cols to add\n",
    "    by=['RID'],\n",
    "    allow_exact_matches=True,\n",
    "    on='EXAMDATE_MERGE', direction='nearest'\n",
    "    ).rename(columns={'AMYLOID_STATUS_copy':'AMYLOID_STATUS_fillna_nearest','EXAMDATE_copy':'AMYLOID_STATUS_fillna_nearest_EXAMDATE'}).sort_values('RID')\n",
    "\n",
    "amystat_nearest.info()"
   ]
  },
  {
   "cell_type": "code",
   "execution_count": 108,
   "id": "cc6e23b6-3d7f-42cb-bfdb-c520d691e58d",
   "metadata": {},
   "outputs": [
    {
     "name": "stdout",
     "output_type": "stream",
     "text": [
      "4590\n",
      "739\n"
     ]
    }
   ],
   "source": [
    "## How many subjects missing an Amyloid Status?\n",
    "temp=amystat_nearest.loc[pd.isnull(amystat_nearest['AMYLOID_STATUS_fillna_nearest'])]\n",
    "print(len(temp))\n",
    "print(len(temp['RID'].unique()))\n",
    "\n",
    "## Fewer missing than in old sheet (1406 subjects w/o amyloid status)"
   ]
  },
  {
   "cell_type": "code",
   "execution_count": 109,
   "id": "880ba7d9-3153-4551-afed-2d3c98fb8194",
   "metadata": {},
   "outputs": [
    {
     "name": "stdout",
     "output_type": "stream",
     "text": [
      "<class 'pandas.core.frame.DataFrame'>\n",
      "RangeIndex: 16417 entries, 0 to 16416\n",
      "Columns: 139 entries, RID to AMYLOID_STATUS_fillna_nearest_timedelta\n",
      "dtypes: datetime64[ns](6), float64(102), int64(3), object(28)\n",
      "memory usage: 17.4+ MB\n"
     ]
    }
   ],
   "source": [
    "## Add each to main df and add timedelta column\n",
    "merge_imp=merge_imp.merge(amystat_backward, on=['RID','EXAMDATE_MERGE'],how='left')\n",
    "merge_imp['AMYLOID_STATUS_fillna_previous_timedelta'] = (merge_imp['AMYLOID_STATUS_fillna_previous_EXAMDATE'] - merge_imp['EXAMDATE_MERGE']) / np.timedelta64(1,'D')\n",
    "\n",
    "merge_imp=merge_imp.merge(amystat_forward, on=['RID','EXAMDATE_MERGE'],how='left')\n",
    "merge_imp['AMYLOID_STATUS_fillna_forward_timedelta'] = (merge_imp['AMYLOID_STATUS_fillna_forward_EXAMDATE'] - merge_imp['EXAMDATE_MERGE']) / np.timedelta64(1,'D')\n",
    "\n",
    "merge_imp=merge_imp.merge(amystat_nearest, on=['RID','EXAMDATE_MERGE'],how='left')\n",
    "merge_imp['AMYLOID_STATUS_fillna_nearest_timedelta'] = (merge_imp['AMYLOID_STATUS_fillna_nearest_EXAMDATE'] - merge_imp['EXAMDATE_MERGE']) / np.timedelta64(1,'D')\n",
    "\n",
    "merge_imp.info()"
   ]
  },
  {
   "cell_type": "code",
   "execution_count": 110,
   "id": "d26364c7-9bc3-4463-9f4c-fe6d3c76b888",
   "metadata": {},
   "outputs": [
    {
     "data": {
      "text/plain": [
       "AMYLOID_STATUS  AMYLOID_STATUS_fillna_previous\n",
       "NaN             NaN                               6539\n",
       "                0.0                               3133\n",
       "                1.0                               3095\n",
       "0.0             0.0                               1944\n",
       "1.0             1.0                               1706\n",
       "Name: count, dtype: int64"
      ]
     },
     "execution_count": 110,
     "metadata": {},
     "output_type": "execute_result"
    }
   ],
   "source": [
    "merge_imp.value_counts(['AMYLOID_STATUS','AMYLOID_STATUS_fillna_previous'],dropna=False)"
   ]
  },
  {
   "cell_type": "code",
   "execution_count": 111,
   "id": "82772672-7262-4d99-83bc-17ad3121751c",
   "metadata": {},
   "outputs": [
    {
     "data": {
      "text/plain": [
       "AMYLOID_STATUS  AMYLOID_STATUS_fillna_forward\n",
       "NaN             NaN                              7205\n",
       "                0.0                              2852\n",
       "                1.0                              2710\n",
       "0.0             0.0                              1944\n",
       "1.0             1.0                              1706\n",
       "Name: count, dtype: int64"
      ]
     },
     "execution_count": 111,
     "metadata": {},
     "output_type": "execute_result"
    }
   ],
   "source": [
    "merge_imp.value_counts(['AMYLOID_STATUS','AMYLOID_STATUS_fillna_forward'],dropna=False)"
   ]
  },
  {
   "cell_type": "code",
   "execution_count": 112,
   "id": "02ca3bb0-3f35-4e31-bb81-c9bb4f536f2b",
   "metadata": {},
   "outputs": [
    {
     "data": {
      "text/plain": [
       "AMYLOID_STATUS  AMYLOID_STATUS_fillna_nearest\n",
       "NaN             NaN                              4590\n",
       "                1.0                              4140\n",
       "                0.0                              4037\n",
       "0.0             0.0                              1944\n",
       "1.0             1.0                              1706\n",
       "Name: count, dtype: int64"
      ]
     },
     "execution_count": 112,
     "metadata": {},
     "output_type": "execute_result"
    }
   ],
   "source": [
    "merge_imp.value_counts(['AMYLOID_STATUS','AMYLOID_STATUS_fillna_nearest'],dropna=False)"
   ]
  },
  {
   "cell_type": "code",
   "execution_count": 113,
   "id": "8835481d-94f0-4bac-9191-cd413a5663e7",
   "metadata": {},
   "outputs": [
    {
     "data": {
      "text/plain": [
       "1109"
      ]
     },
     "execution_count": 113,
     "metadata": {},
     "output_type": "execute_result"
    }
   ],
   "source": [
    "# how many are over 3 years away?\n",
    "len(merge_imp.loc[merge_imp['AMYLOID_STATUS_fillna_nearest_timedelta'] > 1095])\n",
    "## could add \", tolerance=pd.Timedelta('1095d')\" to filter those out"
   ]
  },
  {
   "cell_type": "code",
   "execution_count": null,
   "id": "a88d6f8f-b495-49a2-9161-94a2635c9ce5",
   "metadata": {},
   "outputs": [],
   "source": []
  },
  {
   "cell_type": "code",
   "execution_count": null,
   "id": "af38be75-7cd2-4ef9-80d9-8ad2aa6d068e",
   "metadata": {},
   "outputs": [],
   "source": []
  },
  {
   "cell_type": "markdown",
   "id": "88b7827e-557e-4c61-9f9c-c8008949ab15",
   "metadata": {},
   "source": [
    "### Fill na for DX column"
   ]
  },
  {
   "cell_type": "code",
   "execution_count": 114,
   "id": "86f77e26-12d0-4a5a-8337-2733a5603c29",
   "metadata": {},
   "outputs": [
    {
     "name": "stdout",
     "output_type": "stream",
     "text": [
      "<class 'pandas.core.frame.DataFrame'>\n",
      "Index: 16417 entries, 12690 to 16404\n",
      "Data columns (total 4 columns):\n",
      " #   Column                       Non-Null Count  Dtype         \n",
      "---  ------                       --------------  -----         \n",
      " 0   RID                          16417 non-null  int64         \n",
      " 1   EXAMDATE_MERGE               16417 non-null  datetime64[ns]\n",
      " 2   DX_fillna_previous           16417 non-null  object        \n",
      " 3   DX_fillna_previous_EXAMDATE  16417 non-null  datetime64[ns]\n",
      "dtypes: datetime64[ns](2), int64(1), object(1)\n",
      "memory usage: 641.3+ KB\n"
     ]
    }
   ],
   "source": [
    "## Make DX_previous column\n",
    "Diagnosis_backward = pd.merge_asof(\n",
    "    left=merge_imp.sort_values('EXAMDATE_MERGE')[['RID','EXAMDATE_MERGE']].dropna(subset=['EXAMDATE_MERGE']).reset_index(drop=True),                       # cols to match on\n",
    "    right=merge_imp.sort_values('EXAMDATE_MERGE')[['RID','EXAMDATE_MERGE','DX_copy','EXAMDATE_copy']].dropna(axis=0, subset=['EXAMDATE_MERGE','DX_copy']), # cols to match on + cols to add\n",
    "    by=['RID'],\n",
    "    allow_exact_matches=True,\n",
    "    on='EXAMDATE_MERGE', direction='backward',\n",
    "    ).rename(columns={'DX_copy':'DX_fillna_previous','EXAMDATE_copy':'DX_fillna_previous_EXAMDATE'}).sort_values('RID')\n",
    "\n",
    "Diagnosis_backward.info()"
   ]
  },
  {
   "cell_type": "code",
   "execution_count": 115,
   "id": "307f69b3-4065-478e-850c-779b4342050a",
   "metadata": {},
   "outputs": [
    {
     "name": "stdout",
     "output_type": "stream",
     "text": [
      "<class 'pandas.core.frame.DataFrame'>\n",
      "Index: 16417 entries, 12690 to 16404\n",
      "Data columns (total 4 columns):\n",
      " #   Column                      Non-Null Count  Dtype         \n",
      "---  ------                      --------------  -----         \n",
      " 0   RID                         16417 non-null  int64         \n",
      " 1   EXAMDATE_MERGE              16417 non-null  datetime64[ns]\n",
      " 2   DX_fillna_forward           15173 non-null  object        \n",
      " 3   DX_fillna_forward_EXAMDATE  15173 non-null  datetime64[ns]\n",
      "dtypes: datetime64[ns](2), int64(1), object(1)\n",
      "memory usage: 641.3+ KB\n"
     ]
    }
   ],
   "source": [
    "## Make forward DX cols\n",
    "Diagnosis_forward = pd.merge_asof(\n",
    "    left=merge_imp.sort_values('EXAMDATE_MERGE')[['RID','EXAMDATE_MERGE']].dropna(subset=['EXAMDATE_MERGE']).reset_index(drop=True),                            \n",
    "    right=merge_imp.sort_values('EXAMDATE_MERGE')[['RID','EXAMDATE_MERGE','DX_copy','EXAMDATE_copy']].dropna(axis=0, subset=['EXAMDATE_MERGE','DX_copy']),\n",
    "    by=['RID'],\n",
    "    allow_exact_matches=True,\n",
    "    on='EXAMDATE_MERGE', direction='forward',\n",
    "    ).rename(columns={'DX_copy':'DX_fillna_forward','EXAMDATE_copy':'DX_fillna_forward_EXAMDATE'}).sort_values('RID')\n",
    "\n",
    "Diagnosis_forward.info()"
   ]
  },
  {
   "cell_type": "code",
   "execution_count": 116,
   "id": "51eee1a7-580f-4994-8510-02d7d2e17dd5",
   "metadata": {},
   "outputs": [
    {
     "name": "stdout",
     "output_type": "stream",
     "text": [
      "<class 'pandas.core.frame.DataFrame'>\n",
      "Index: 16417 entries, 12690 to 16404\n",
      "Data columns (total 4 columns):\n",
      " #   Column                      Non-Null Count  Dtype         \n",
      "---  ------                      --------------  -----         \n",
      " 0   RID                         16417 non-null  int64         \n",
      " 1   EXAMDATE_MERGE              16417 non-null  datetime64[ns]\n",
      " 2   DX_fillna_nearest           16417 non-null  object        \n",
      " 3   DX_fillna_nearest_EXAMDATE  16417 non-null  datetime64[ns]\n",
      "dtypes: datetime64[ns](2), int64(1), object(1)\n",
      "memory usage: 641.3+ KB\n"
     ]
    }
   ],
   "source": [
    "## Create nearest col\n",
    "Diagnosis_nearest = pd.merge_asof(\n",
    "    left=merge_imp.sort_values('EXAMDATE_MERGE')[['RID','EXAMDATE_MERGE']].dropna(subset=['EXAMDATE_MERGE']).reset_index(drop=True),                            \n",
    "    right=merge_imp.sort_values('EXAMDATE_MERGE')[['RID','EXAMDATE_MERGE','DX_copy','EXAMDATE_copy']].dropna(axis=0, subset=['EXAMDATE_MERGE','DX_copy']),\n",
    "    by=['RID'],\n",
    "    allow_exact_matches=True,\n",
    "    on='EXAMDATE_MERGE', direction='nearest',\n",
    "    ).rename(columns={'DX_copy':'DX_fillna_nearest','EXAMDATE_copy':'DX_fillna_nearest_EXAMDATE'}).sort_values('RID')\n",
    "\n",
    "Diagnosis_nearest.info()"
   ]
  },
  {
   "cell_type": "code",
   "execution_count": 117,
   "id": "9244057c-dd2a-46aa-9150-f7e9e597f6fc",
   "metadata": {},
   "outputs": [
    {
     "name": "stdout",
     "output_type": "stream",
     "text": [
      "<class 'pandas.core.frame.DataFrame'>\n",
      "RangeIndex: 16417 entries, 0 to 16416\n",
      "Columns: 148 entries, RID to DX_fillna_nearest_timedelta\n",
      "dtypes: datetime64[ns](9), float64(105), int64(3), object(31)\n",
      "memory usage: 18.5+ MB\n"
     ]
    }
   ],
   "source": [
    "## Add columns to main df, add timedelta column\n",
    "merge_imp=merge_imp.merge(Diagnosis_backward, on=['RID','EXAMDATE_MERGE'],how='left')\n",
    "merge_imp['DX_fillna_previous_timedelta'] = (merge_imp['DX_fillna_previous_EXAMDATE'] - merge_imp['EXAMDATE_MERGE']) / np.timedelta64(1,'D')\n",
    "\n",
    "merge_imp=merge_imp.merge(Diagnosis_forward, on=['RID','EXAMDATE_MERGE'],how='left')\n",
    "merge_imp['DX_fillna_forward_timedelta'] = (merge_imp['DX_fillna_forward_EXAMDATE'] - merge_imp['EXAMDATE_MERGE']) / np.timedelta64(1,'D')\n",
    "\n",
    "merge_imp=merge_imp.merge(Diagnosis_nearest, on=['RID','EXAMDATE_MERGE'],how='left')\n",
    "merge_imp['DX_fillna_nearest_timedelta'] = (merge_imp['DX_fillna_nearest_EXAMDATE'] - merge_imp['EXAMDATE_MERGE']) / np.timedelta64(1,'D')\n",
    "\n",
    "merge_imp.info()"
   ]
  },
  {
   "cell_type": "code",
   "execution_count": 118,
   "id": "0e5cc6ff-f5ba-4f69-82c3-349b5742756d",
   "metadata": {},
   "outputs": [
    {
     "data": {
      "text/plain": [
       "DX   DX_fillna_previous\n",
       "2.0  2.0                   5004\n",
       "1.0  1.0                   4032\n",
       "3.0  3.0                   2456\n",
       "NaN  1.0                   2218\n",
       "     2.0                   1631\n",
       "     3.0                   1076\n",
       "Name: count, dtype: int64"
      ]
     },
     "execution_count": 118,
     "metadata": {},
     "output_type": "execute_result"
    }
   ],
   "source": [
    "merge_imp.value_counts(['DX','DX_fillna_previous'],dropna=False)"
   ]
  },
  {
   "cell_type": "code",
   "execution_count": 119,
   "id": "3f60faea-4de4-4a81-8b58-53bede592e70",
   "metadata": {},
   "outputs": [
    {
     "data": {
      "text/plain": [
       "DX   DX_fillna_forward\n",
       "2.0  2.0                  5004\n",
       "1.0  1.0                  4032\n",
       "3.0  3.0                  2456\n",
       "NaN  1.0                  1631\n",
       "     2.0                  1299\n",
       "     NaN                  1244\n",
       "     3.0                   751\n",
       "Name: count, dtype: int64"
      ]
     },
     "execution_count": 119,
     "metadata": {},
     "output_type": "execute_result"
    }
   ],
   "source": [
    "merge_imp.value_counts(['DX','DX_fillna_forward'],dropna=False)"
   ]
  },
  {
   "cell_type": "code",
   "execution_count": 120,
   "id": "3d196904-7d14-42d2-accd-d8048833a477",
   "metadata": {},
   "outputs": [
    {
     "data": {
      "text/plain": [
       "DX   DX_fillna_nearest\n",
       "2.0  2.0                  5004\n",
       "1.0  1.0                  4032\n",
       "3.0  3.0                  2456\n",
       "NaN  1.0                  2197\n",
       "     2.0                  1587\n",
       "     3.0                  1141\n",
       "Name: count, dtype: int64"
      ]
     },
     "execution_count": 120,
     "metadata": {},
     "output_type": "execute_result"
    }
   ],
   "source": [
    "merge_imp.value_counts(['DX','DX_fillna_nearest'],dropna=False)"
   ]
  },
  {
   "cell_type": "code",
   "execution_count": 121,
   "id": "510c9eb9-ce73-4470-ac91-85b8d25a239d",
   "metadata": {},
   "outputs": [],
   "source": [
    "## Drop *_copy columns\n",
    "merge_imp = merge_imp.drop(columns = ['DX_copy','EXAMDATE_copy','AMYLOID_STATUS_copy']) "
   ]
  },
  {
   "cell_type": "code",
   "execution_count": null,
   "id": "91f436a7-bcc4-42b8-9907-2cf5bf425db6",
   "metadata": {},
   "outputs": [],
   "source": []
  },
  {
   "cell_type": "markdown",
   "id": "ee1517cb-ce4c-49b9-b899-40a69efa5bdd",
   "metadata": {},
   "source": [
    "### Boolean columns indicating if dx/status is imputed"
   ]
  },
  {
   "cell_type": "code",
   "execution_count": 122,
   "id": "a2b946ae-d7d6-4aa6-8340-586cb132fc62",
   "metadata": {},
   "outputs": [],
   "source": [
    "bool_df = merge_imp.copy()"
   ]
  },
  {
   "cell_type": "code",
   "execution_count": 123,
   "id": "995f8154-ef44-486d-b106-5771e2bfedb2",
   "metadata": {},
   "outputs": [],
   "source": [
    "newcols=[col.replace('timedelta','imputed') for col in merge_imp.columns if 'timedelta' in col]\n",
    "for col in newcols:\n",
    "    bool_df[col] = None "
   ]
  },
  {
   "cell_type": "code",
   "execution_count": 124,
   "id": "043be53f-3d1a-471a-a758-af931aea3263",
   "metadata": {},
   "outputs": [
    {
     "name": "stdout",
     "output_type": "stream",
     "text": [
      "<class 'pandas.core.frame.DataFrame'>\n",
      "RangeIndex: 16417 entries, 0 to 16416\n",
      "Columns: 151 entries, RID to DX_fillna_nearest_imputed\n",
      "dtypes: datetime64[ns](8), float64(104), int64(3), object(36)\n",
      "memory usage: 18.9+ MB\n"
     ]
    }
   ],
   "source": [
    "for index,row in bool_df.iterrows():\n",
    "    for column in bool_df.columns:\n",
    "        if \"timedelta\" in column:\n",
    "            collist=column.split(\"_\")\n",
    "            collist.remove('timedelta')\n",
    "            collist.append('imputed')\n",
    "            newcol=\"_\".join(collist)\n",
    "            # print(newcol)\n",
    "            if pd.notnull(row[column]):\n",
    "                # print(row[column])\n",
    "                if row[column] == 0:\n",
    "                    # print('not imputed')\n",
    "                    bool_df.at[index,newcol] = 0\n",
    "                else:\n",
    "                    # print('imputed')\n",
    "                    bool_df.at[index,newcol] = 1\n",
    "                \n",
    "bool_df.info()"
   ]
  },
  {
   "cell_type": "code",
   "execution_count": null,
   "id": "314164fe-3d52-472e-b9dd-52f4b2e02e2c",
   "metadata": {},
   "outputs": [],
   "source": []
  },
  {
   "cell_type": "markdown",
   "id": "36ca6368-de22-4504-b722-c2491901b47d",
   "metadata": {},
   "source": [
    "### DX change column"
   ]
  },
  {
   "cell_type": "code",
   "execution_count": 125,
   "id": "f15537bc-2170-4d35-8706-14dcd854ab97",
   "metadata": {},
   "outputs": [],
   "source": [
    "## sort and reset index so the index-1 can be used to compare to previous DX value\n",
    "dxchangedf=bool_df.sort_values(by=['RID','EXAMDATE_MERGE'])\n",
    "dxchangedf.reset_index(drop=True,inplace=True)"
   ]
  },
  {
   "cell_type": "code",
   "execution_count": 126,
   "id": "62cd3c60-f20e-414b-8de2-f48a1a59d88a",
   "metadata": {},
   "outputs": [
    {
     "data": {
      "text/plain": [
       "DX_changed_fillna_nearest\n",
       "0       13202\n",
       "None     2430\n",
       "1         785\n",
       "Name: count, dtype: int64"
      ]
     },
     "execution_count": 126,
     "metadata": {},
     "output_type": "execute_result"
    }
   ],
   "source": [
    "## DX change uses nearest fillna column\n",
    "allsubs = dxchangedf['RID'].unique().tolist()\n",
    "dxnear_index = dxchangedf.columns.get_loc('DX_fillna_nearest') \n",
    "dxchangedf['DX_changed_fillna_nearest'] = None\n",
    "\n",
    "for sub in allsubs:\n",
    "    match=dxchangedf.loc[dxchangedf['RID'] == sub]\n",
    "    match_index_list = match.index.tolist()\n",
    "    for i in match_index_list:\n",
    "        if i > match_index_list[0]: ## not the first entry\n",
    "            if dxchangedf.iloc[i, dxnear_index] == dxchangedf.iloc[i-1, dxnear_index]:\n",
    "                # print('same dx')\n",
    "                dxchangedf.at[i,'DX_changed_fillna_nearest'] = 0\n",
    "            else:\n",
    "                # print('dx has changed')\n",
    "                # print(f\"This tp: {dxchangedf.iloc[i, dxnear_index]}, previous tp: {dxchangedf.iloc[i-1, dxnear_index]}\")\n",
    "                dxchangedf.at[i,'DX_changed_fillna_nearest'] = 1\n",
    "\n",
    "\n",
    "dxchangedf['DX_changed_fillna_nearest'].value_counts(dropna=False)\n",
    "## 2430 null == 2430 subjects' first entries "
   ]
  },
  {
   "cell_type": "code",
   "execution_count": null,
   "id": "61f344af-5153-4c9b-8e1c-bce8a4c7fece",
   "metadata": {},
   "outputs": [],
   "source": []
  },
  {
   "cell_type": "code",
   "execution_count": null,
   "id": "efded0e9-4899-4f18-b7a3-429ea66b3b01",
   "metadata": {},
   "outputs": [],
   "source": []
  },
  {
   "cell_type": "markdown",
   "id": "8a1cb715-39e7-4274-9c2a-478f2866c826",
   "metadata": {},
   "source": [
    "## Step 12: Final NaN counts and export"
   ]
  },
  {
   "cell_type": "code",
   "execution_count": 127,
   "id": "49fdfdfa-77ce-42c1-8405-77216dfb93f4",
   "metadata": {},
   "outputs": [
    {
     "name": "stdout",
     "output_type": "stream",
     "text": [
      "INFO:no duplicates\n"
     ]
    }
   ],
   "source": [
    "## check for duplicates\n",
    "merge_impamy=dxchangedf.copy()\n",
    "dupes=merge_impamy[merge_impamy.duplicated(subset=[\"RID\", 'VISCODE2'],keep=False)]\n",
    "if len(dupes) > 0:\n",
    "    print('WARNING:delete duplicate sessions')\n",
    "else:\n",
    "    print('INFO:no duplicates')"
   ]
  },
  {
   "cell_type": "code",
   "execution_count": 128,
   "id": "f88d3852-a784-41d0-9ede-b5456dc7ab28",
   "metadata": {},
   "outputs": [
    {
     "name": "stdout",
     "output_type": "stream",
     "text": [
      "DX column:\n",
      "4959 null values in original adnimerge csv.\n",
      "4925 null values after checking.\n",
      "Gained 34 rows of data.\n"
     ]
    }
   ],
   "source": [
    "print(\"DX column:\")\n",
    "print(f\"{len(adnimerge.loc[pd.isnull(adnimerge['DX'])])} null values in original adnimerge csv.\")\n",
    "print(f\"{len(merge_impamy.loc[pd.isnull(merge_impamy['DX'])])} null values after checking.\")\n",
    "print(f\"Gained {len(adnimerge.loc[pd.isnull(adnimerge['DX'])]) - len(merge_impamy.loc[pd.isnull(merge_impamy['DX'])])} rows of data.\")"
   ]
  },
  {
   "cell_type": "code",
   "execution_count": 129,
   "id": "b244218e-0718-4453-af4e-7011db38cb02",
   "metadata": {},
   "outputs": [
    {
     "name": "stdout",
     "output_type": "stream",
     "text": [
      "Birthdate column:\n",
      "Added 16417 rows of data.\n",
      "0 rows have null values.\n"
     ]
    }
   ],
   "source": [
    "print(\"Birthdate column:\")\n",
    "print(f\"Added {len(merge_impamy.loc[pd.notnull(merge_impamy['PTBIRTHDATE'])])} rows of data.\")\n",
    "print(f\"{len(merge_impamy.loc[pd.isnull(merge_impamy['PTBIRTHDATE'])])} rows have null values.\")"
   ]
  },
  {
   "cell_type": "code",
   "execution_count": 130,
   "id": "4c9c09f5-457e-41d7-8692-d62031d4a391",
   "metadata": {},
   "outputs": [
    {
     "name": "stdout",
     "output_type": "stream",
     "text": [
      "CDRSB column:\n",
      "4670 null values in original adnimerge csv.\n",
      "4668 null values after checking.\n",
      "Gained 2 rows of data.\n"
     ]
    }
   ],
   "source": [
    "print(\"CDRSB column:\")\n",
    "print(f\"{len(adnimerge.loc[pd.isnull(adnimerge['CDRSB'])])} null values in original adnimerge csv.\")\n",
    "print(f\"{len(merge_impamy.loc[pd.isnull(merge_impamy['CDRSB'])])} null values after checking.\")\n",
    "print(f\"Gained {len(adnimerge.loc[pd.isnull(adnimerge['CDRSB'])]) - len(merge_impamy.loc[pd.isnull(merge_impamy['CDRSB'])])} rows of data.\")"
   ]
  },
  {
   "cell_type": "code",
   "execution_count": 131,
   "id": "56f27cfa-a2a0-4cd6-acf8-081a90de6d5c",
   "metadata": {},
   "outputs": [
    {
     "name": "stdout",
     "output_type": "stream",
     "text": [
      "Amyloid Status column:\n",
      "Added 3650 rows of data.\n",
      "12767 rows have null values.\n"
     ]
    }
   ],
   "source": [
    "print(\"Amyloid Status column:\")\n",
    "print(f\"Added {len(merge_impamy.loc[pd.notnull(merge_impamy['AMYLOID_STATUS'])])} rows of data.\")\n",
    "print(f\"{len(merge_impamy.loc[pd.isnull(merge_impamy['AMYLOID_STATUS'])])} rows have null values.\")"
   ]
  },
  {
   "cell_type": "code",
   "execution_count": 132,
   "id": "77a35a37-3e3d-46ad-84fd-ac117d40dd6f",
   "metadata": {},
   "outputs": [
    {
     "name": "stdout",
     "output_type": "stream",
     "text": [
      "APOE4 column:\n",
      "365 null values in original adnimerge csv.\n",
      "48 null values after checking.\n",
      "Gained 317 rows of data.\n"
     ]
    }
   ],
   "source": [
    "print(\"APOE4 column:\")\n",
    "print(f\"{len(adnimerge.loc[pd.isnull(adnimerge['APOE4'])])} null values in original adnimerge csv.\")\n",
    "print(f\"{len(merge_impamy.loc[pd.isnull(merge_impamy['APOE4'])])} null values after checking.\")\n",
    "print(f\"Gained {len(adnimerge.loc[pd.isnull(adnimerge['APOE4'])]) - len(merge_impamy.loc[pd.isnull(merge_impamy['APOE4'])])} rows of data.\")"
   ]
  },
  {
   "cell_type": "code",
   "execution_count": 133,
   "id": "da854ad0-a9c6-46ac-a3e7-713feaecb1a9",
   "metadata": {},
   "outputs": [
    {
     "name": "stdout",
     "output_type": "stream",
     "text": [
      "PLASMA_NFL column:\n",
      "Added 3701 rows of data.\n",
      "12716 rows have null values.\n"
     ]
    }
   ],
   "source": [
    "print(\"PLASMA_NFL column:\")\n",
    "print(f\"Added {len(merge_impamy.loc[pd.notnull(merge_impamy['PLASMA_NFL'])])} rows of data.\")\n",
    "print(f\"{len(merge_impamy.loc[pd.isnull(merge_impamy['PLASMA_NFL'])])} rows have null values.\")"
   ]
  },
  {
   "cell_type": "code",
   "execution_count": 134,
   "id": "368ef2ac-57e7-44f4-b6d7-65e70ff19f70",
   "metadata": {},
   "outputs": [
    {
     "name": "stdout",
     "output_type": "stream",
     "text": [
      "PTAU column:\n",
      "Added 2369 rows of data.\n",
      "14048 rows have null values.\n"
     ]
    }
   ],
   "source": [
    "print(\"PTAU column:\")\n",
    "print(f\"Added {len(merge_impamy.loc[pd.notnull(merge_impamy['PTAU'])])} rows of data.\")\n",
    "print(f\"{len(merge_impamy.loc[pd.isnull(merge_impamy['PTAU'])])} rows have null values.\")"
   ]
  },
  {
   "cell_type": "code",
   "execution_count": 135,
   "id": "df7d8e1c-c162-4e38-a3c5-1f2a8c04174d",
   "metadata": {},
   "outputs": [
    {
     "name": "stdout",
     "output_type": "stream",
     "text": [
      "MMSE column:\n",
      "4948 null values in original adnimerge csv.\n",
      "4931 null values after checking.\n",
      "Gained 17 rows of data.\n"
     ]
    }
   ],
   "source": [
    "print(\"MMSE column:\")\n",
    "print(f\"{len(adnimerge.loc[pd.isnull(adnimerge['MMSE'])])} null values in original adnimerge csv.\")\n",
    "print(f\"{len(merge_impamy.loc[pd.isnull(merge_impamy['MMSE'])])} null values after checking.\")\n",
    "print(f\"Gained {len(adnimerge.loc[pd.isnull(adnimerge['MMSE'])]) - len(merge_impamy.loc[pd.isnull(merge_impamy['MMSE'])])} rows of data.\")"
   ]
  },
  {
   "cell_type": "code",
   "execution_count": 136,
   "id": "d4a21bbd-2f1f-43e9-bfa1-8d106ce7ac87",
   "metadata": {},
   "outputs": [
    {
     "name": "stdout",
     "output_type": "stream",
     "text": [
      "LDELTOTAL column:\n",
      "6975 null values in original adnimerge csv.\n",
      "6968 null values after checking.\n",
      "Gained 7 rows of data.\n"
     ]
    }
   ],
   "source": [
    "print(\"LDELTOTAL column:\")\n",
    "print(f\"{len(adnimerge.loc[pd.isnull(adnimerge['LDELTOTAL'])])} null values in original adnimerge csv.\")\n",
    "print(f\"{len(merge_impamy.loc[pd.isnull(merge_impamy['LDELTOTAL'])])} null values after checking.\")\n",
    "print(f\"Gained {len(adnimerge.loc[pd.isnull(adnimerge['LDELTOTAL'])]) - len(merge_impamy.loc[pd.isnull(merge_impamy['LDELTOTAL'])])} rows of data.\")"
   ]
  },
  {
   "cell_type": "code",
   "execution_count": null,
   "id": "08a4925c-c308-42d5-a5fb-d61ac8ae9d53",
   "metadata": {},
   "outputs": [],
   "source": []
  },
  {
   "cell_type": "code",
   "execution_count": 137,
   "id": "16b8aef0-23d7-49c7-ac32-3b4a3905e40d",
   "metadata": {},
   "outputs": [],
   "source": [
    "current_date = datetime.now().strftime(\"%Y_%m_%d\")\n",
    "merge_impamy.to_csv(f\"/project/wolk/ADNI2018/analysis_output/data/ADNIMERGE_PICSLversion_{current_date}.csv\",index=False,header=True)"
   ]
  },
  {
   "cell_type": "code",
   "execution_count": null,
   "id": "a30dad0b-43db-424e-ac6a-b5d1f87c4f86",
   "metadata": {},
   "outputs": [],
   "source": []
  },
  {
   "cell_type": "code",
   "execution_count": null,
   "id": "7bff70da-5671-4979-a3d6-542c58e3bf9a",
   "metadata": {},
   "outputs": [],
   "source": []
  },
  {
   "cell_type": "code",
   "execution_count": null,
   "id": "a92d85e1-862c-47ad-acea-4bc6e0fe312d",
   "metadata": {},
   "outputs": [],
   "source": []
  }
 ],
 "metadata": {
  "kernelspec": {
   "display_name": "Python 3 (ipykernel)",
   "language": "python",
   "name": "python3"
  },
  "language_info": {
   "codemirror_mode": {
    "name": "ipython",
    "version": 3
   },
   "file_extension": ".py",
   "mimetype": "text/x-python",
   "name": "python",
   "nbconvert_exporter": "python",
   "pygments_lexer": "ipython3",
   "version": "3.9.18"
  }
 },
 "nbformat": 4,
 "nbformat_minor": 5
}
